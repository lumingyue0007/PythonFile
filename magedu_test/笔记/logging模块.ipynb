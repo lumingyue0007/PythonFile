{
 "cells": [
  {
   "cell_type": "markdown",
   "metadata": {},
   "source": [
    "# logging模块"
   ]
  },
  {
   "cell_type": "raw",
   "metadata": {},
   "source": [
    "日志级别：\n",
    "    critical   ----  50\n",
    "    error  -----  40\n",
    "    warning ----  30 默认\n",
    "    info  ----  20\n",
    "    debug ---- 10\n",
    "    notset ---  0\n",
    " \n",
    "设置一个级别后，严重程度低于设置值的日志消息将被忽略"
   ]
  },
  {
   "cell_type": "code",
   "execution_count": 1,
   "metadata": {},
   "outputs": [],
   "source": [
    "import logging"
   ]
  },
  {
   "cell_type": "code",
   "execution_count": 24,
   "metadata": {},
   "outputs": [
    {
     "name": "stderr",
     "output_type": "stream",
     "text": [
      "2019-12-06 17:02:41,792\t Thread info: 44664 MainThread i am info 20\n",
      "2019-12-06 17:02:41,793\t Thread info: 44664 MainThread i am warning 20\n"
     ]
    }
   ],
   "source": [
    "FORMAT = '%(asctime)-15s\\t Thread info: %(thread)s %(threadName)s %(message)s' # c风格  -15,15是总共占用15格，‘-’表示向左\n",
    "logging.basicConfig(format=FORMAT, level=logging.INFO)\n",
    "logging.info('i am info {}'.format(20))\n",
    "logging.warning('i am warning {}'.format(20))"
   ]
  },
  {
   "cell_type": "code",
   "execution_count": 23,
   "metadata": {},
   "outputs": [
    {
     "name": "stderr",
     "output_type": "stream",
     "text": [
      "2019-12-06 17:02:29,386\t Thread info: 44664 MainThread info test 123\n",
      "2019-12-06 17:02:29,389\t Thread info: 44664 MainThread i am info 20\n"
     ]
    }
   ],
   "source": [
    "# 扩展方式  ===========pychram测试ok\n",
    "FORMAT = '%(message)s %(web)s'\n",
    "logging.basicConfig(format=FORMAT, level=logging.INFO)\n",
    "d = {'web': 'www.mage.du'}\n",
    "\n",
    "logging.info('info test %s', '123', extra=d)\n",
    "logging.info('i am info {}'.format(20), extra=d)"
   ]
  },
  {
   "cell_type": "code",
   "execution_count": 26,
   "metadata": {},
   "outputs": [
    {
     "name": "stderr",
     "output_type": "stream",
     "text": [
      "2019-12-06 17:10:20,423\t Thread info: 44664 MainThread i am info 20\n",
      "2019-12-06 17:10:20,425\t Thread info: 44664 MainThread i am warning 20\n"
     ]
    }
   ],
   "source": [
    "# 修改日期时间格式  ===========pychram测试ok\n",
    "import logging\n",
    "\n",
    "FORMAT = '%(asctime)s Thread info: %(thread)s %(threadName)s %(message)s' # c风格  -15,15是总共占用15格，‘-’表示向左\n",
    "logging.basicConfig(format=FORMAT, level=logging.INFO, datefmt='%Y%m%d===%H%M%S')\n",
    "logging.info('i am info {}'.format(20))\n",
    "logging.warning('i am warning {}'.format(20))"
   ]
  },
  {
   "cell_type": "code",
   "execution_count": 29,
   "metadata": {},
   "outputs": [],
   "source": [
    "logging.basicConfig(format=FORMAT, level=logging.INFO, \n",
    "                    datefmt='%Y%m%d===%H%M%S',\n",
    "                   filename='o:/test.log')  # 打印输出取消，写入到指定的文件日志中，默认filemode=‘a’追加，一般不改动"
   ]
  },
  {
   "cell_type": "markdown",
   "metadata": {},
   "source": [
    "# logger类"
   ]
  },
  {
   "cell_type": "code",
   "execution_count": 34,
   "metadata": {},
   "outputs": [
    {
     "name": "stdout",
     "output_type": "stream",
     "text": [
      "root a\n"
     ]
    }
   ],
   "source": [
    "# 获取logger实例，如果不传参，则返回root实例。否则将以传入参数的名称，建立该参数名称的实例\n",
    "log = logging.getLogger()\n",
    "log1 = logging.getLogger('a')\n",
    "print(log.name, log1.name)"
   ]
  },
  {
   "cell_type": "code",
   "execution_count": null,
   "metadata": {},
   "outputs": [],
   "source": []
  },
  {
   "cell_type": "code",
   "execution_count": null,
   "metadata": {},
   "outputs": [],
   "source": []
  },
  {
   "cell_type": "code",
   "execution_count": null,
   "metadata": {},
   "outputs": [],
   "source": []
  },
  {
   "cell_type": "code",
   "execution_count": null,
   "metadata": {},
   "outputs": [],
   "source": []
  },
  {
   "cell_type": "code",
   "execution_count": null,
   "metadata": {},
   "outputs": [],
   "source": []
  },
  {
   "cell_type": "code",
   "execution_count": null,
   "metadata": {},
   "outputs": [],
   "source": []
  },
  {
   "cell_type": "code",
   "execution_count": null,
   "metadata": {},
   "outputs": [],
   "source": []
  },
  {
   "cell_type": "code",
   "execution_count": null,
   "metadata": {},
   "outputs": [],
   "source": []
  },
  {
   "cell_type": "code",
   "execution_count": null,
   "metadata": {},
   "outputs": [],
   "source": []
  },
  {
   "cell_type": "code",
   "execution_count": null,
   "metadata": {},
   "outputs": [],
   "source": []
  },
  {
   "cell_type": "code",
   "execution_count": null,
   "metadata": {},
   "outputs": [],
   "source": []
  }
 ],
 "metadata": {
  "kernelspec": {
   "display_name": "Python 3",
   "language": "python",
   "name": "python3"
  },
  "language_info": {
   "codemirror_mode": {
    "name": "ipython",
    "version": 3
   },
   "file_extension": ".py",
   "mimetype": "text/x-python",
   "name": "python",
   "nbconvert_exporter": "python",
   "pygments_lexer": "ipython3",
   "version": "3.6.6"
  }
 },
 "nbformat": 4,
 "nbformat_minor": 2
}
