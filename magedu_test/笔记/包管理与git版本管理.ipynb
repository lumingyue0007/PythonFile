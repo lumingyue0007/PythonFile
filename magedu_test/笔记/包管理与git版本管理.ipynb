{
 "cells": [
  {
   "cell_type": "markdown",
   "metadata": {},
   "source": [
    "# 包管理"
   ]
  },
  {
   "cell_type": "raw",
   "metadata": {},
   "source": [
    "# from distutils.core import setup\n",
    "from setuptools import setup 建议用setuptools，因为setuptools是distutils的升级，是兼容的，功能更强\n",
    "\n",
    "setup(name='a_package',\n",
    "      version='0.1.0.1.0',\n",
    "      description='a Utilities',\n",
    "      author='lmy',\n",
    "      author_email='lumingyue0007@sina.com',\n",
    "      url='https://www.python.org/sigs/distutils-sig/',\n",
    "      packages=['a', 'a.b'],\n",
    "     )\n",
    "     \n",
    "建立setup.py文件，文件内容如上\n",
    "然后在终端运行命令：\n",
    "    python setup.py build 建立build目录，根据packages列表内容，拷贝.py文件。该文件直接拷贝到其他目录就可以使用\n",
    "    python setup.py sdist 建立源代码的分发包，里面会产生一个.tar.gz压缩包文件\n",
    "    python setup.py bdist 同上，建立一个.zip的压缩包文件\n",
    "    python setup.py bdist_egg 同上，建立一个.egg的压缩包文件"
   ]
  },
  {
   "cell_type": "markdown",
   "metadata": {},
   "source": [
    "# 插件化开发"
   ]
  },
  {
   "cell_type": "raw",
   "metadata": {},
   "source": [
    "通过编程的方式，动态的导入模块"
   ]
  },
  {
   "cell_type": "raw",
   "metadata": {},
   "source": [
    "if __name__ == '__main__':\n",
    "    mod = __import__('t2') # 不鼓励使用\n",
    "    cls = getattr(mod, 'A')\n",
    "    cls().show()"
   ]
  },
  {
   "cell_type": "raw",
   "metadata": {},
   "source": [
    "范例写法：\n",
    "from importlib import import_module\n",
    "\n",
    "def plugin_load(plugin_name:str, sep=':'):\n",
    "    m,c = plugin_namen.split(sep=sep)\n",
    "    mod = import_module(m)\n",
    "    cls = getattr(mod, c)\n",
    "    return cls\n",
    "\n",
    "if __name__ = '__main__':\n",
    "    a = plugin_load('test:A')\n",
    "    a.show()"
   ]
  },
  {
   "cell_type": "markdown",
   "metadata": {},
   "source": [
    "# 版本管理"
   ]
  },
  {
   "cell_type": "code",
   "execution_count": null,
   "metadata": {},
   "outputs": [],
   "source": []
  },
  {
   "cell_type": "code",
   "execution_count": null,
   "metadata": {},
   "outputs": [],
   "source": []
  },
  {
   "cell_type": "code",
   "execution_count": null,
   "metadata": {},
   "outputs": [],
   "source": []
  },
  {
   "cell_type": "code",
   "execution_count": null,
   "metadata": {},
   "outputs": [],
   "source": []
  },
  {
   "cell_type": "code",
   "execution_count": null,
   "metadata": {},
   "outputs": [],
   "source": []
  },
  {
   "cell_type": "code",
   "execution_count": null,
   "metadata": {},
   "outputs": [],
   "source": []
  },
  {
   "cell_type": "code",
   "execution_count": null,
   "metadata": {},
   "outputs": [],
   "source": []
  },
  {
   "cell_type": "code",
   "execution_count": null,
   "metadata": {},
   "outputs": [],
   "source": []
  },
  {
   "cell_type": "code",
   "execution_count": null,
   "metadata": {},
   "outputs": [],
   "source": []
  },
  {
   "cell_type": "code",
   "execution_count": null,
   "metadata": {},
   "outputs": [],
   "source": []
  },
  {
   "cell_type": "code",
   "execution_count": null,
   "metadata": {},
   "outputs": [],
   "source": []
  },
  {
   "cell_type": "code",
   "execution_count": null,
   "metadata": {},
   "outputs": [],
   "source": []
  }
 ],
 "metadata": {
  "kernelspec": {
   "display_name": "Python 3",
   "language": "python",
   "name": "python3"
  },
  "language_info": {
   "codemirror_mode": {
    "name": "ipython",
    "version": 3
   },
   "file_extension": ".py",
   "mimetype": "text/x-python",
   "name": "python",
   "nbconvert_exporter": "python",
   "pygments_lexer": "ipython3",
   "version": "3.6.6"
  }
 },
 "nbformat": 4,
 "nbformat_minor": 2
}
