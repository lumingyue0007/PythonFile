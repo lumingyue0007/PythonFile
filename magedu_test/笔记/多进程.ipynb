{
 "cells": [
  {
   "cell_type": "markdown",
   "metadata": {},
   "source": [
    "# 多进程"
   ]
  },
  {
   "cell_type": "code",
   "execution_count": 1,
   "metadata": {},
   "outputs": [],
   "source": [
    "import multiprocessing"
   ]
  },
  {
   "cell_type": "raw",
   "metadata": {},
   "source": [
    "多进程的运行，必须要在主模块中运行\n",
    "    if __name__ == '__main__'"
   ]
  },
  {
   "cell_type": "raw",
   "metadata": {},
   "source": [
    "pid  进程id\n",
    "exitcode  进程退出状态码\n",
    "terminate 终止执行的进程"
   ]
  },
  {
   "cell_type": "raw",
   "metadata": {},
   "source": [
    "CPU密集型：\n",
    "    因为python中的GIL原因，多线程的时候锁相互竞争，且多核优势不能发挥，python多进程效率更高\n",
    "IO密集型：\n",
    "    适合用多线程，可以减少多进程间IO的序列化开销。且io等待的时候，切换到其他线程继续执行，效率较高"
   ]
  },
  {
   "cell_type": "markdown",
   "metadata": {},
   "source": [
    "# concurrent包"
   ]
  },
  {
   "cell_type": "raw",
   "metadata": {},
   "source": [
    "异步并行任务模块"
   ]
  },
  {
   "cell_type": "raw",
   "metadata": {},
   "source": [
    "ThreadPoolExecutor(max_worker=1) 池中最多创建max_workers个线程的池来同时异步执行，返回Executor实例\n",
    "submit(fn, *args, **kwargs) 提交执行的函数及其参数，返回future类的实例\n",
    "shutdown(wait=True) 清理池\n",
    "\n",
    "future类：\n",
    "    done() 任务呗成功的执行或取消，返回true\n",
    "    cancelled() 调用被成功取消，返回true\n",
    "    running() 正在运行且不能被取消，返回true\n",
    "    cancel() 尝试取消调用，如果不能取消返回false，否则返回true\n",
    "    result(timeout=None) 获取返回结果，timeout为None,一直等待。timeout设置到时，抛出concurrent.futures.timeoutError异常\n",
    "    exception() 获取返回异常，timeout为None，一直等待。timeout设置到时，抛出concurrent.futures.timeoutError异常"
   ]
  },
  {
   "cell_type": "code",
   "execution_count": 5,
   "metadata": {},
   "outputs": [
    {
     "name": "stderr",
     "output_type": "stream",
     "text": [
      "45092 MainProcess 45924 begin to work 0\n",
      "45092 MainProcess 45748 begin to work 1\n",
      "45092 MainProcess 42032 begin to work 2\n",
      "45092 MainProcess 45748 finished 1\n",
      "45092 MainProcess 45748 begin to work 3\n",
      "45092 MainProcess 45924 finished 0\n",
      "45092 MainProcess 45748 finished 3\n",
      "45092 MainProcess 42032 finished 2\n",
      "45092 MainProcess 32508 <Future at 0x7d67128 state=finished returned int> result = 2\n",
      "45092 MainProcess 32508 <Future at 0x817bba8 state=finished returned int> result = 1\n",
      "45092 MainProcess 32508 <Future at 0x7d679b0 state=finished returned int> result = 10\n",
      "45092 MainProcess 32508 <Future at 0x7d7fbe0 state=finished returned int> result = 8\n"
     ]
    }
   ],
   "source": [
    "# 范例\n",
    "import logging, time, threading, random, concurrent\n",
    "from concurrent.futures import ThreadPoolExecutor\n",
    "\n",
    "FORMAT = '%(process)s %(processName)s %(thread)s %(message)s'\n",
    "logging.basicConfig(format=FORMAT, level=logging.INFO)\n",
    "\n",
    "def worker(n):\n",
    "    ran = random.randint(1, 10)\n",
    "    logging.info('begin to work {}'.format(n))\n",
    "    time.sleep(ran) # 模拟任务\n",
    "    logging.info('finished {}'.format(n))\n",
    "    return ran\n",
    "\n",
    "executor = ThreadPoolExecutor(3) # 建立线程池\n",
    "fs = []\n",
    "\n",
    "with executor: # 上下文管理，保证资源释放\n",
    "    for i in range(4):\n",
    "        f = executor.submit(worker, i)  # 创建线程，并传入工作任务\n",
    "        fs.append(f)\n",
    "\n",
    "\n",
    "    while True:\n",
    "        flag = True\n",
    "        time.sleep(1)\n",
    "        for f in fs:\n",
    "            flag = flag and f.done()\n",
    "            if not flag:\n",
    "                break\n",
    "\n",
    "        if flag:\n",
    "            for f in fs:\n",
    "                logging.info('{} result = {}'.format(f, f.result()))\n",
    "            break"
   ]
  },
  {
   "cell_type": "code",
   "execution_count": null,
   "metadata": {},
   "outputs": [],
   "source": []
  },
  {
   "cell_type": "code",
   "execution_count": null,
   "metadata": {},
   "outputs": [],
   "source": []
  },
  {
   "cell_type": "code",
   "execution_count": null,
   "metadata": {},
   "outputs": [],
   "source": []
  },
  {
   "cell_type": "code",
   "execution_count": null,
   "metadata": {},
   "outputs": [],
   "source": []
  },
  {
   "cell_type": "code",
   "execution_count": null,
   "metadata": {},
   "outputs": [],
   "source": []
  },
  {
   "cell_type": "code",
   "execution_count": null,
   "metadata": {},
   "outputs": [],
   "source": []
  },
  {
   "cell_type": "code",
   "execution_count": null,
   "metadata": {},
   "outputs": [],
   "source": []
  },
  {
   "cell_type": "code",
   "execution_count": null,
   "metadata": {},
   "outputs": [],
   "source": []
  },
  {
   "cell_type": "code",
   "execution_count": null,
   "metadata": {},
   "outputs": [],
   "source": []
  },
  {
   "cell_type": "code",
   "execution_count": null,
   "metadata": {},
   "outputs": [],
   "source": []
  },
  {
   "cell_type": "code",
   "execution_count": null,
   "metadata": {},
   "outputs": [],
   "source": []
  },
  {
   "cell_type": "code",
   "execution_count": null,
   "metadata": {},
   "outputs": [],
   "source": []
  },
  {
   "cell_type": "code",
   "execution_count": null,
   "metadata": {},
   "outputs": [],
   "source": []
  },
  {
   "cell_type": "code",
   "execution_count": null,
   "metadata": {},
   "outputs": [],
   "source": []
  }
 ],
 "metadata": {
  "kernelspec": {
   "display_name": "Python 3",
   "language": "python",
   "name": "python3"
  },
  "language_info": {
   "codemirror_mode": {
    "name": "ipython",
    "version": 3
   },
   "file_extension": ".py",
   "mimetype": "text/x-python",
   "name": "python",
   "nbconvert_exporter": "python",
   "pygments_lexer": "ipython3",
   "version": "3.6.6"
  }
 },
 "nbformat": 4,
 "nbformat_minor": 2
}
