{
 "cells": [
  {
   "cell_type": "markdown",
   "metadata": {},
   "source": [
    "# 并发"
   ]
  },
  {
   "cell_type": "raw",
   "metadata": {},
   "source": [
    "并行：同时做某些事，可以相互不干扰的同时进行===同时运行\n",
    "并发：一段时间内，完成处理某些事===交替运行\n",
    "方法：\n",
    "    1.队列，缓冲区   queue\n",
    "    2.争抢\n",
    "    3.预处理\n",
    "    4.并行 ===>水平扩展\n",
    "    5.提速 ===>垂直扩展\n",
    "    6.消息中间件"
   ]
  },
  {
   "cell_type": "raw",
   "metadata": {},
   "source": [
    "进程和线程\n",
    "线程：操作系统能进行运算调度的最小单位\n",
    "进程：一个程序的执行实例\n",
    "线程被进程包含，是进程实际运作的单位\n",
    "\n",
    "当程序被操作系统加载到内存中，就是进程。进程中存放着指令和数据。一个进程可以包含多个线程\n",
    "\n",
    "线程的状态：\n",
    "    就绪：等待被调度\n",
    "    运行：线程正在运行\n",
    "    阻塞：线程等待外部事件发生而无法运行\n",
    "    终止：线程完成，或退出"
   ]
  },
  {
   "cell_type": "markdown",
   "metadata": {},
   "source": [
    "# 线程"
   ]
  },
  {
   "cell_type": "code",
   "execution_count": 20,
   "metadata": {
    "scrolled": true
   },
   "outputs": [
    {
     "name": "stdout",
     "output_type": "stream",
     "text": [
      "==end==\n",
      "i am working 0\n",
      "i am working 1\n",
      "i am working 2\n",
      "i am working 3\n",
      "i am working 4\n",
      "i am working 5\n"
     ]
    }
   ],
   "source": [
    "import threading, time\n",
    "\n",
    "def working():\n",
    "    count = 0\n",
    "    while True:\n",
    "        time.sleep(1)\n",
    "        print('i am working', count)\n",
    "        count += 1\n",
    "        if count > 5:\n",
    "            break\n",
    "\n",
    "t = threading.Thread(target=working)\n",
    "t.start()\n",
    "\n",
    "print('==end==')"
   ]
  },
  {
   "cell_type": "raw",
   "metadata": {},
   "source": [
    "python的线程没有优先级，没有线程组的概念，也不能被销毁，停止，挂起，那也就没有恢复和中断"
   ]
  },
  {
   "cell_type": "code",
   "execution_count": 2,
   "metadata": {},
   "outputs": [
    {
     "name": "stdout",
     "output_type": "stream",
     "text": [
      "current thread = <_MainThread(MainThread, started 42688)>\n",
      "main thread = <_MainThread(MainThread, started 42688)>\n",
      "active count = 6\n",
      "current thread = <Thread(work1, started 45108)>\n",
      "main thread = <_MainThread(MainThread, started 42688)>\n",
      "active count = 7\n",
      "===end===\n"
     ]
    }
   ],
   "source": [
    "import threading, time\n",
    "\n",
    "def threadingifo():\n",
    "    print('current thread = {}'.format(threading.current_thread()))\n",
    "    print('main thread = {}'.format(threading.main_thread()))\n",
    "    print('active count = {}'.format(threading.active_count()))\n",
    "\n",
    "def working():\n",
    "    count = 0\n",
    "    threadingifo()\n",
    "    while True:\n",
    "        time.sleep(1)\n",
    "        print('i am working', count)\n",
    "        count += 1\n",
    "        if count > 5:\n",
    "            break\n",
    "\n",
    "t = threading.Thread(target=working, name='work1')\n",
    "threadingifo()\n",
    "t.start()\n",
    "\n",
    "print('===end===')"
   ]
  },
  {
   "cell_type": "raw",
   "metadata": {},
   "source": [
    "current_thread()  返回当前线程对象\n",
    "main_thread()  返回主线程对象\n",
    "active_count() 返回当前处于alive状态的线程个数\n",
    "enumerate() 返回所有或者的线程列表，不包括已经终止的线程和未开始的线程\n",
    "get_ident() 返回当前线程的ID，非0整数"
   ]
  },
  {
   "cell_type": "raw",
   "metadata": {},
   "source": [
    "Thread实例\n",
    "    name:线程名字。getName(),setName()获取和设置这个名称\n",
    "    ident：线程ID，非0整数。线程启动后才会有ID。否则为None。线程退出，此ID依旧可以访问。此ID可以重复使用\n",
    "    is_alive(): 返回线程是否活着\n",
    "\n",
    "t.start()  同一个线程对象，只可以执行一次\n",
    "t.run() 函数调用（单线程，主线程运行）"
   ]
  },
  {
   "cell_type": "raw",
   "metadata": {},
   "source": [
    "daemon线程\n",
    "t.setDaemon()  一定要在进程start之前执行\n",
    "isDaemon() 判断是否是daemon线程"
   ]
  },
  {
   "cell_type": "raw",
   "metadata": {},
   "source": [
    "总结：daemon（后台线程）\n",
    "    主线程是non-daemon线程，即非daemon线程，daemon=false\n",
    "    从主线程创建的所有线程，如果不设定daemon属性，则默认都是false，即non-daemon线程\n",
    "    \n",
    "    当主线程执行完的时候，检查是否有其他的非daemon线程正在运行\n",
    "        如果有，则等待非daemon线程执行结束后，主线程结束\n",
    "        如果没有，则立即结束\n",
    "    主线程结束，则程序退出执行，并结束所有线程\n",
    "    \n",
    "    如果a线程调用了a1.join方法，则a线程执行到join方法时，必须等待a1线程执行完成后，才能继续执行后面语句"
   ]
  },
  {
   "cell_type": "markdown",
   "metadata": {},
   "source": [
    "# threading.local()"
   ]
  },
  {
   "cell_type": "code",
   "execution_count": 21,
   "metadata": {},
   "outputs": [
    {
     "name": "stdout",
     "output_type": "stream",
     "text": [
      "<Thread(w-0, started 42004)><Thread(w-3, started 46000)> 100\n",
      " 100<Thread(w-4, started 42976)> <Thread(w-1, started 2352)> 100\n",
      "100\n",
      "<Thread(w-2, started 40132)> 100\n",
      "\n"
     ]
    }
   ],
   "source": [
    "import threading, time\n",
    "\n",
    "global_data = threading.local()\n",
    "\n",
    "def work():\n",
    "    global_data.x = 0 # 动态为global_data类增加一个x属性，并赋值为0\n",
    "\n",
    "    for _ in range(100):\n",
    "        time.sleep(0.001)\n",
    "        global_data.x += 1\n",
    "    print(threading.current_thread(), global_data.x)\n",
    "\n",
    "for i in range(5):\n",
    "    t = threading.Thread(target=work, name='w-{}'.format(i))\n",
    "    t.start()"
   ]
  },
  {
   "cell_type": "code",
   "execution_count": 31,
   "metadata": {},
   "outputs": [
    {
     "name": "stdout",
     "output_type": "stream",
     "text": [
      "<_thread._local object at 0x00000000055DCBA0> <class '_thread._local'> 123\n",
      "abc\n",
      "<_thread._local object at 0x00000000055DCBA0>\n",
      "123\n",
      "working\n",
      "------------------------------\n"
     ]
    }
   ],
   "source": [
    "import threading, time\n",
    "\n",
    "X = 'abc'\n",
    "ctx = threading.local()\n",
    "ctx.x = 123\n",
    "\n",
    "print(ctx, type(ctx), ctx.x)\n",
    "\n",
    "def worker():\n",
    "    print(X)\n",
    "    print(ctx)\n",
    "    print(ctx.x)# 变量读取错误\n",
    "    print('working')\n",
    "\n",
    "worker()\n",
    "print('-'*30)\n",
    "# threading.Thread(target=worker).start()  #报错"
   ]
  },
  {
   "cell_type": "raw",
   "metadata": {},
   "source": [
    "总结：\n",
    "   Threading_local() 构建的变量，跨线程不能访问\n",
    "    因为线程安全问题，为保证变量计算正常，要么使用线程的局部变量，要么使用Threading_local()"
   ]
  },
  {
   "cell_type": "markdown",
   "metadata": {},
   "source": [
    "# 定时器，延时执行"
   ]
  },
  {
   "cell_type": "code",
   "execution_count": 32,
   "metadata": {},
   "outputs": [
    {
     "name": "stdout",
     "output_type": "stream",
     "text": [
      "======================\n",
      "9\n"
     ]
    }
   ],
   "source": [
    "from threading import Thread, Timer\n",
    "\n",
    "def add(x, y):\n",
    "    print(x + y)\n",
    "\n",
    "t = Timer(5, add, (3, 6))\n",
    "# t.cancel() # 延时取消\n",
    "t.start()\n",
    "# t.cancel() # 延时取消\n",
    "print('======================')"
   ]
  },
  {
   "cell_type": "markdown",
   "metadata": {},
   "source": [
    "# 线程同步--Event"
   ]
  },
  {
   "cell_type": "raw",
   "metadata": {},
   "source": [
    "Event方法：\n",
    "    set(): 设置为true\n",
    "    clear(): 设置为false\n",
    "    is_set(): 判断是否为true\n",
    "    wait(timeout=None): 设置等待标记为true的时长，None为无限等待。等到返回true。未等到超时了返回false"
   ]
  },
  {
   "cell_type": "code",
   "execution_count": 7,
   "metadata": {},
   "outputs": [
    {
     "name": "stdout",
     "output_type": "stream",
     "text": [
      "i am waiting\n",
      "i am working [1]\n",
      "i am working [1, 1]\n",
      "i am working [1, 1, 1]\n",
      "i am working [1, 1, 1, 1]\n",
      "i am working [1, 1, 1, 1, 1]\n",
      "i am working [1, 1, 1, 1, 1, 1]\n",
      "i am working [1, 1, 1, 1, 1, 1, 1]\n",
      "i am working [1, 1, 1, 1, 1, 1, 1, 1]\n",
      "i am working [1, 1, 1, 1, 1, 1, 1, 1, 1]\n",
      "i am working [1, 1, 1, 1, 1, 1, 1, 1, 1, 1]\n",
      "i am working [1, 1, 1, 1, 1, 1, 1, 1, 1, 1, 1]\n",
      "good job\n"
     ]
    }
   ],
   "source": [
    "from threading import Thread, Event\n",
    "import time\n",
    "\n",
    "cups = []\n",
    "e = Event()\n",
    "\n",
    "def worker(event, count=10):\n",
    "    while True:\n",
    "        time.sleep(0.5)\n",
    "        cups.append(1)\n",
    "        print('i am working', cups)\n",
    "        if len(cups) > count:\n",
    "            event.set()\n",
    "            break\n",
    "\n",
    "def boss(event):\n",
    "    print('i am waiting')\n",
    "    event.wait() # 线程阻塞\n",
    "    print('good job')\n",
    "\n",
    "b = Thread(target=boss, args=(e,))\n",
    "w = Thread(target=worker, args=(e,))\n",
    "\n",
    "b.start()\n",
    "w.start()"
   ]
  },
  {
   "cell_type": "code",
   "execution_count": 8,
   "metadata": {},
   "outputs": [
    {
     "name": "stdout",
     "output_type": "stream",
     "text": [
      "8\n"
     ]
    }
   ],
   "source": [
    "# 实现一个timer功能，不能继承thread\n",
    "from threading import Thread, Event, Timer\n",
    "\n",
    "class ttimer:\n",
    "    def __init__(self, interval, fanc, args=(), kwargs={}):\n",
    "        self.interval = interval\n",
    "        self.fanc = fanc\n",
    "        self.args = args\n",
    "        self.kwargs = kwargs\n",
    "        self.event = Event()\n",
    "\n",
    "    def start(self):\n",
    "        Thread(target=self._run).start()\n",
    "\n",
    "    def cancel(self):\n",
    "        print('cancel ~~~~~~~~~~~~~~~~')\n",
    "        self.event.set()\n",
    "\n",
    "    def _run(self):\n",
    "        self.event.wait(self.interval)\n",
    "        if not self.event.is_set():\n",
    "            self.fanc(*self.args, **self.kwargs)\n",
    "        self.event.set()\n",
    "\n",
    "def add(x, y):\n",
    "    print(x + y)\n",
    "\n",
    "t = ttimer(3, add, (3, 5))\n",
    "t.start()\n",
    "# t.cancel()"
   ]
  },
  {
   "cell_type": "markdown",
   "metadata": {},
   "source": [
    "# 锁"
   ]
  },
  {
   "cell_type": "raw",
   "metadata": {},
   "source": [
    "凡是在共享资源争抢的场景，可以用锁"
   ]
  },
  {
   "cell_type": "code",
   "execution_count": 10,
   "metadata": {},
   "outputs": [],
   "source": [
    "from threading import Lock\n",
    "lock = Lock()\n",
    "lock.acquire(blocking=True, timeout=-1) # 获得锁，谁获得锁，谁的任务完成后必须释放锁\n",
    "lock.release()"
   ]
  },
  {
   "cell_type": "code",
   "execution_count": 16,
   "metadata": {},
   "outputs": [
    {
     "name": "stdout",
     "output_type": "stream",
     "text": [
      "1000==1000==1000==1000==1000==1000==1000==1000==1000==1000=="
     ]
    }
   ],
   "source": [
    "from threading import Thread, Event, Timer, Lock\n",
    "import time, logging\n",
    "\n",
    "cups = []\n",
    "lock = Lock()\n",
    "\n",
    "def worker(count):\n",
    "    while True:\n",
    "        lock.acquire()\n",
    "        if len(cups) >= count:\n",
    "            lock.release()\n",
    "            break\n",
    "        time.sleep(0.001)\n",
    "        cups.append(1)\n",
    "        lock.release()\n",
    "    print('{}=='.format(len(cups)), end='')\n",
    "\n",
    "for i in range(10):\n",
    "    t = Thread(target=worker, name='w-{}'.format(i), args=(1000,))\n",
    "    t.start()"
   ]
  },
  {
   "cell_type": "raw",
   "metadata": {},
   "source": [
    "总结：\n",
    "    场景：多线程，对公共资源有争抢的情况。则要考虑锁\n",
    "    \n",
    "    注意事项：\n",
    "        少用锁，必要时用锁。用锁会降低多线程执行效率\n",
    "        加锁时间越短越好，不需要就立即释放锁\n",
    "        一定要避免死锁"
   ]
  },
  {
   "cell_type": "markdown",
   "metadata": {},
   "source": [
    "# 可重入锁--Rlock"
   ]
  },
  {
   "cell_type": "raw",
   "metadata": {},
   "source": [
    "线程相关的锁\n",
    "线程A获得可重复锁，并可以多次成功获取，不会阻塞。最后线程A中要做acquire次数相同的release\n",
    "如果要跨线程获取重复锁。则必须判断原线程的锁有没有全部释放，否则获取不到"
   ]
  },
  {
   "cell_type": "markdown",
   "metadata": {},
   "source": [
    "# condition"
   ]
  },
  {
   "cell_type": "raw",
   "metadata": {},
   "source": [
    "condition(lock=None),可以传入一个lock或Rlock对象，默认Rlock对象\n",
    "acquire(*args) 获取锁\n",
    "wait(self, timeout=None) 等待或超时\n",
    "nofiy(n=1) 唤醒至多指定数目个数的等待线程，没有等待线程就没有任何操作\n",
    "notify_all() 唤醒所有等待线程"
   ]
  },
  {
   "cell_type": "code",
   "execution_count": 33,
   "metadata": {},
   "outputs": [
    {
     "name": "stdout",
     "output_type": "stream",
     "text": [
      "========================================\n"
     ]
    }
   ],
   "source": [
    "from threading import Thread, Event, Condition\n",
    "import random, time, logging\n",
    "\n",
    "FORMAT = '%(asctime)s %(threadName)s %(thread)s %(message)s'\n",
    "logging.basicConfig(format=FORMAT, level=logging.INFO)\n",
    "\n",
    "class Dispatcher:\n",
    "    def __init__(self):\n",
    "        self.data = None\n",
    "        self.cond = Condition()\n",
    "\n",
    "    def pruducter(self, total):\n",
    "        for _ in range(total):\n",
    "            self.data = random.randint(0, 100)\n",
    "            with self.cond:\n",
    "                logging.info(self.data)\n",
    "                # self.cond.notify_all()\n",
    "                self.cond.notify(2)\n",
    "            time.sleep(1)\n",
    "\n",
    "    def consumer(self):\n",
    "        while True:\n",
    "            with self.cond:\n",
    "                self.cond.wait()\n",
    "                logging.info(self.data)\n",
    "                # self.data = None\n",
    "            time.sleep(0.5)\n",
    "\n",
    "d = Dispatcher()\n",
    "p = Thread(target=d.pruducter, args=(10,), name='producter')\n",
    "\n",
    "for i in range(3):\n",
    "    c = Thread(target=d.consumer, name='consumer')\n",
    "    c.start()\n",
    "\n",
    "p.start()\n",
    "\n",
    "print('='* 40)"
   ]
  },
  {
   "cell_type": "raw",
   "metadata": {},
   "source": [
    "condition总结：\n",
    "    解决生产者与消费者之间速度匹配的问题\n",
    "    该方法使用了锁，所有必须先acquire，用完了要release。默认是Rlock，最好的使用方法是上下文\n",
    "    消费者等待通知\n",
    "    生产者生产好消息，对消费者发送通知，可以使用notify或者notify_all方法"
   ]
  },
  {
   "cell_type": "markdown",
   "metadata": {},
   "source": [
    "# 线程同步--Barrier"
   ]
  },
  {
   "cell_type": "raw",
   "metadata": {},
   "source": [
    "Barrier(parties, action=None, timeout=None) 构建Barrier对象，指定参数数目，timeout是wait方法未指定超时的默认值\n",
    "n_waiting 当前在屏障中等待的线程数\n",
    "parties 个方数，就是需要多少个等待\n",
    "wait(timeout=None) 等待通过屏障。返回0到线程数-1的整数，每个线程返回不同。如果wait方法设置了超时，并超时发送，屏障将处于broken状态\n",
    "    直到reset才能恢复"
   ]
  },
  {
   "cell_type": "raw",
   "metadata": {},
   "source": [
    "所有线程遇到barrier时等待，直到到达parties的数目，屏障打开，所有线程停止等待，执行任务\n",
    "当有线程wait，屏障就绪等到到达参数数目"
   ]
  },
  {
   "cell_type": "code",
   "execution_count": 36,
   "metadata": {},
   "outputs": [
    {
     "name": "stdout",
     "output_type": "stream",
     "text": [
      "i am working  0\n",
      "i am working i am working  1\n",
      " 1\n",
      "finish my job  0\n",
      "finish my job  0\n",
      "finish my job  0\n"
     ]
    }
   ],
   "source": [
    "from threading import Barrier, Thread\n",
    "\n",
    "barrier = Barrier(3)\n",
    "\n",
    "def worker(bar:Barrier):\n",
    "    print('i am working ', bar.n_waiting)\n",
    "    bar.wait()\n",
    "    print('finish my job ', bar.n_waiting)\n",
    "\n",
    "ts = []\n",
    "for i in range(3):\n",
    "    t = Thread(target=worker, args=(barrier,))\n",
    "    t.start()\n",
    "    ts.append(t)"
   ]
  },
  {
   "cell_type": "raw",
   "metadata": {},
   "source": [
    "broken  如果屏障处于被打破状态，则返回true\n",
    "abort()  将屏障设置为broken状态，等待中的线程或者调用等待方法的线程中都会抛出BrokenBarrierError异常。直到reset方法来恢复屏障\n",
    "reset()  恢复屏障，重新开始拦截"
   ]
  },
  {
   "cell_type": "raw",
   "metadata": {},
   "source": [
    "barrier应用场景：\n",
    "    并发初始化\n",
    "    所有线程都必须初始化后，才能继续工作"
   ]
  },
  {
   "cell_type": "markdown",
   "metadata": {},
   "source": [
    "# 信号量---semaphore"
   ]
  },
  {
   "cell_type": "raw",
   "metadata": {},
   "source": [
    "Semaphore(value=1) 构造方法，value小于0，抛valueerror异常\n",
    "acquire(blocking=True, timeout=None)  获取信号量，计数减1，获取成功返回true\n",
    "    当发现计数器为0时，触发阻塞\n",
    "release() 释放信号量，计数器加1"
   ]
  },
  {
   "cell_type": "code",
   "execution_count": 44,
   "metadata": {
    "scrolled": true
   },
   "outputs": [
    {
     "name": "stdout",
     "output_type": "stream",
     "text": [
      "True\n",
      "True\n",
      "1\n",
      "True\n",
      "0\n",
      "False\n",
      "0\n"
     ]
    }
   ],
   "source": [
    "from threading import Semaphore\n",
    "sema = Semaphore(3)\n",
    "print(sema.acquire())\n",
    "print(sema.acquire())\n",
    "print(sema._value)\n",
    "print(sema.acquire())\n",
    "print(sema._value)\n",
    "print(sema.acquire(timeout=3))\n",
    "print(sema._value)"
   ]
  },
  {
   "cell_type": "raw",
   "metadata": {},
   "source": [
    "Boundedsemaphore  有边界的信号量\n",
    "多次release会出异常"
   ]
  },
  {
   "cell_type": "markdown",
   "metadata": {},
   "source": [
    "# GIL全局解释器锁"
   ]
  },
  {
   "cell_type": "code",
   "execution_count": null,
   "metadata": {},
   "outputs": [],
   "source": [
    "GIL：\n",
    "    CPython在解释器进程级别有一般锁，叫做GIL全局解释器锁\n",
    "    它保证CPython进程中，只有一个线程执行字节码。甚至在多核CPU的情况下，也是只能允许一个CPU上的一个线程在运行\n",
    "    \n",
    "IO密集型：由于线程阻塞，可以调用其他线程\n",
    "    比如文件读取，加载，初始化的情况下，可以用多线程，barrier\n",
    "\n",
    "CPU密集型：大量的数据计算\n",
    "    由于有GIL的存在，多线程在这种情况下，就没有任何优势，和单线程执行效率相当"
   ]
  },
  {
   "cell_type": "code",
   "execution_count": null,
   "metadata": {},
   "outputs": [],
   "source": []
  }
 ],
 "metadata": {
  "kernelspec": {
   "display_name": "Python 3",
   "language": "python",
   "name": "python3"
  },
  "language_info": {
   "codemirror_mode": {
    "name": "ipython",
    "version": 3
   },
   "file_extension": ".py",
   "mimetype": "text/x-python",
   "name": "python",
   "nbconvert_exporter": "python",
   "pygments_lexer": "ipython3",
   "version": "3.6.6"
  }
 },
 "nbformat": 4,
 "nbformat_minor": 2
}
