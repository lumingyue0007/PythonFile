{
 "cells": [
  {
   "cell_type": "markdown",
   "metadata": {},
   "source": [
    "# 异常处理"
   ]
  },
  {
   "cell_type": "markdown",
   "metadata": {},
   "source": [
    "异常可以捕获并处理，但是错误没办法捕获"
   ]
  },
  {
   "cell_type": "code",
   "execution_count": 1,
   "metadata": {},
   "outputs": [
    {
     "ename": "FileNotFoundError",
     "evalue": "[Errno 2] No such file or directory: '11111'",
     "output_type": "error",
     "traceback": [
      "\u001b[1;31m---------------------------------------------------------------------------\u001b[0m",
      "\u001b[1;31mFileNotFoundError\u001b[0m                         Traceback (most recent call last)",
      "\u001b[1;32m<ipython-input-1-f7058f5b9a77>\u001b[0m in \u001b[0;36m<module>\u001b[1;34m\u001b[0m\n\u001b[1;32m----> 1\u001b[1;33m \u001b[1;32mwith\u001b[0m \u001b[0mopen\u001b[0m\u001b[1;33m(\u001b[0m\u001b[1;34m'11111'\u001b[0m\u001b[1;33m)\u001b[0m \u001b[1;32mas\u001b[0m \u001b[0mf\u001b[0m\u001b[1;33m:\u001b[0m \u001b[1;32mpass\u001b[0m\u001b[1;33m\u001b[0m\u001b[0m\n\u001b[0m",
      "\u001b[1;31mFileNotFoundError\u001b[0m: [Errno 2] No such file or directory: '11111'"
     ]
    }
   ],
   "source": [
    "with open('11111') as f: pass # 异常"
   ]
  },
  {
   "cell_type": "code",
   "execution_count": 2,
   "metadata": {},
   "outputs": [
    {
     "ename": "SyntaxError",
     "evalue": "invalid syntax (<ipython-input-2-940aa512e32b>, line 1)",
     "output_type": "error",
     "traceback": [
      "\u001b[1;36m  File \u001b[1;32m\"<ipython-input-2-940aa512e32b>\"\u001b[1;36m, line \u001b[1;32m1\u001b[0m\n\u001b[1;33m    def 0a(): pass\u001b[0m\n\u001b[1;37m        ^\u001b[0m\n\u001b[1;31mSyntaxError\u001b[0m\u001b[1;31m:\u001b[0m invalid syntax\n"
     ]
    }
   ],
   "source": [
    "def 0a(): pass # 错误"
   ]
  },
  {
   "cell_type": "code",
   "execution_count": 4,
   "metadata": {},
   "outputs": [
    {
     "name": "stdout",
     "output_type": "stream",
     "text": [
      "before\n",
      "-----------\n",
      "end\n"
     ]
    }
   ],
   "source": [
    "# 异常的捕获\n",
    "try:\n",
    "    print('before')\n",
    "    open('121212')\n",
    "    print('after')\n",
    "except:# 可以指定异常子类\n",
    "    print('-----------')\n",
    "print('end')"
   ]
  },
  {
   "cell_type": "markdown",
   "metadata": {},
   "source": [
    "try：\n",
    "    待捕获异常的代码块\n",
    "except [异常类型]\n",
    "    异常的处理代码块\n",
    "\n",
    "try运行子句程式，当遇到异常，则该语句后的程式不会执行，并直接执行except子句，except子句执行后，继续执行后面的语句"
   ]
  },
  {
   "cell_type": "code",
   "execution_count": 15,
   "metadata": {},
   "outputs": [
    {
     "name": "stdout",
     "output_type": "stream",
     "text": [
      "else\n",
      "finally\n",
      "out\n"
     ]
    }
   ],
   "source": [
    "class MyException(Exception):pass\n",
    "\n",
    "try:\n",
    "#     raise MyException\n",
    "#     print(a)\n",
    "    pass\n",
    "except MyException as e:\n",
    "    print('my exception', e)\n",
    "except Exception as e:\n",
    "    print('------------', e)\n",
    "else:\n",
    "    print('else')\n",
    "finally:\n",
    "    print('finally')\n",
    "\n",
    "print('out')"
   ]
  },
  {
   "cell_type": "markdown",
   "metadata": {},
   "source": [
    "总结：\n",
    "try：\n",
    "    <语句> #运行代码块\n",
    "except <异常类>：\n",
    "    <语句> # 捕获某种类型的异常\n",
    "except <异常类> as <变量名>：\n",
    "    <语句> # 捕获某种类型的异常，并获得对象\n",
    "else：\n",
    "    <语句> #如果没有异常发生，则执行语句块\n",
    "finally：\n",
    "    <语句> # 退出try时，一定会执行的语句块\n",
    "\n",
    "exception子类，自定义的错误继承与该类，一般父类的异常尽可能的往下写,当异常无法捕获并处理，则线程退出\n",
    "finally:只要执行try语句，finally一定会执行\n",
    "else:当try语句中没有异常时，则会执行else及语句"
   ]
  },
  {
   "cell_type": "code",
   "execution_count": null,
   "metadata": {},
   "outputs": [],
   "source": []
  },
  {
   "cell_type": "code",
   "execution_count": null,
   "metadata": {},
   "outputs": [],
   "source": []
  }
 ],
 "metadata": {
  "kernelspec": {
   "display_name": "Python 3",
   "language": "python",
   "name": "python3"
  },
  "language_info": {
   "codemirror_mode": {
    "name": "ipython",
    "version": 3
   },
   "file_extension": ".py",
   "mimetype": "text/x-python",
   "name": "python",
   "nbconvert_exporter": "python",
   "pygments_lexer": "ipython3",
   "version": "3.6.6"
  }
 },
 "nbformat": 4,
 "nbformat_minor": 2
}
