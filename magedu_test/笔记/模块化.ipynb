{
 "cells": [
  {
   "cell_type": "markdown",
   "metadata": {},
   "source": [
    "# 模块化"
   ]
  },
  {
   "cell_type": "code",
   "execution_count": 1,
   "metadata": {},
   "outputs": [
    {
     "name": "stdout",
     "output_type": "stream",
     "text": [
      "<module 'os' from 'd:\\\\python\\\\lib\\\\os.py'>\n",
      "<class 'module'>\n",
      "['In', 'Out', '_', '__', '___', '__builtin__', '__builtins__', '__doc__', '__loader__', '__name__', '__package__', '__spec__', '_dh', '_i', '_i1', '_ih', '_ii', '_iii', '_oh', 'exit', 'get_ipython', 'os', 'quit']\n"
     ]
    }
   ],
   "source": [
    "import os\n",
    "print(os)\n",
    "print(type(os))\n",
    "print(dir())"
   ]
  },
  {
   "cell_type": "code",
   "execution_count": 3,
   "metadata": {},
   "outputs": [
    {
     "name": "stdout",
     "output_type": "stream",
     "text": [
      "<module 'ntpath' from 'd:\\\\python\\\\lib\\\\ntpath.py'>\n",
      "<class 'module'>\n",
      "['In', 'Out', '_', '__', '___', '__builtin__', '__builtins__', '__doc__', '__loader__', '__name__', '__package__', '__spec__', '_dh', '_i', '_i1', '_i2', '_i3', '_ih', '_ii', '_iii', '_oh', 'exit', 'get_ipython', 'os', 'quit']\n"
     ]
    }
   ],
   "source": [
    "import os.path\n",
    "print(os.path)\n",
    "print(type(os.path))\n",
    "print(dir())"
   ]
  },
  {
   "cell_type": "code",
   "execution_count": 4,
   "metadata": {},
   "outputs": [
    {
     "name": "stdout",
     "output_type": "stream",
     "text": [
      "<module 'ntpath' from 'd:\\\\python\\\\lib\\\\ntpath.py'>\n",
      "<class 'module'>\n",
      "['In', 'Out', '_', '__', '___', '__builtin__', '__builtins__', '__doc__', '__loader__', '__name__', '__package__', '__spec__', '_dh', '_i', '_i1', '_i2', '_i3', '_i4', '_ih', '_ii', '_iii', '_oh', 'exit', 'get_ipython', 'os', 'ospath', 'quit']\n"
     ]
    }
   ],
   "source": [
    "import os.path as ospath # 导入os.path模块，并重命名为ospath\n",
    "print(ospath)\n",
    "print(type(ospath))\n",
    "print(dir())"
   ]
  },
  {
   "cell_type": "raw",
   "metadata": {},
   "source": [
    "总结：\n",
    "    导入顶级模块，其名称会加入到本地的名词空间中，并绑定到其模块对象。用dir（）查看\n",
    "    导入非顶级模块，只将顶级模块名称导入到本地名词空间，导入的模块必须使用完全限定的名词来访问\n",
    "    如果使用了as，as后的名称直接绑定到导入模块对象，并将该名称加入到本地名词空间"
   ]
  },
  {
   "cell_type": "code",
   "execution_count": 5,
   "metadata": {},
   "outputs": [
    {
     "name": "stdout",
     "output_type": "stream",
     "text": [
      "<module 'ntpath' from 'd:\\\\python\\\\lib\\\\ntpath.py'>\n",
      "['In', 'Out', '_', '__', '___', '__builtin__', '__builtins__', '__doc__', '__loader__', '__name__', '__package__', '__spec__', '_dh', '_i', '_i1', '_i2', '_i3', '_i4', '_i5', '_ih', '_ii', '_iii', '_oh', 'exit', 'get_ipython', 'os', 'ospath', 'path', 'quit']\n"
     ]
    }
   ],
   "source": [
    "from os import path\n",
    "print(path)\n",
    "print(dir())"
   ]
  },
  {
   "cell_type": "raw",
   "metadata": {},
   "source": [
    "总结：\n",
    "    from后面只能接模块\n",
    "    import后面可以跟模块，函数，类，变量\n",
    "    注意作用域，一般情况下，定义在函数外层，程式行首\n",
    "    \n",
    "    先找到from子句中指定的模块，并加载初始化（此时不是导入）\n",
    "    对于import子句：\n",
    "      先查from子句导入的模块是否具有该名称的属性\n",
    "      如果不是，则尝试导入该名称的子模块\n",
    "      如果还没有，则抛出异常\n",
    "      这个名称保存到本地名词空间中，如果有as语句，则使用as语句后的名词"
   ]
  },
  {
   "cell_type": "raw",
   "metadata": {},
   "source": [
    "自定义模块命名规范\n",
    "    模块名就是文件名\n",
    "    模块名必须符合标识符的要求，非数字开头的字母数字和下划线组合。\n",
    "    不能使用系统模块名，避免冲突\n",
    "    通常模块名全部为小写，下划线来分割"
   ]
  },
  {
   "cell_type": "code",
   "execution_count": 7,
   "metadata": {},
   "outputs": [
    {
     "name": "stdout",
     "output_type": "stream",
     "text": [
      "d:\\python\\python36.zip\n",
      "d:\\python\\DLLs\n",
      "d:\\python\\lib\n",
      "d:\\python\n",
      "\n",
      "d:\\python\\lib\\site-packages\n",
      "d:\\python\\lib\\site-packages\\IPython\\extensions\n",
      "C:\\Users\\LuMingyue\\.ipython\n"
     ]
    }
   ],
   "source": [
    "# 库的搜索顺序：\n",
    "import sys\n",
    "for p in sys.path:\n",
    "    print(p)"
   ]
  },
  {
   "cell_type": "code",
   "execution_count": null,
   "metadata": {},
   "outputs": [],
   "source": []
  },
  {
   "cell_type": "code",
   "execution_count": null,
   "metadata": {},
   "outputs": [],
   "source": []
  },
  {
   "cell_type": "code",
   "execution_count": null,
   "metadata": {},
   "outputs": [],
   "source": []
  },
  {
   "cell_type": "code",
   "execution_count": null,
   "metadata": {},
   "outputs": [],
   "source": []
  },
  {
   "cell_type": "code",
   "execution_count": null,
   "metadata": {},
   "outputs": [],
   "source": []
  },
  {
   "cell_type": "code",
   "execution_count": null,
   "metadata": {},
   "outputs": [],
   "source": []
  },
  {
   "cell_type": "code",
   "execution_count": null,
   "metadata": {},
   "outputs": [],
   "source": []
  },
  {
   "cell_type": "code",
   "execution_count": null,
   "metadata": {},
   "outputs": [],
   "source": []
  },
  {
   "cell_type": "code",
   "execution_count": null,
   "metadata": {},
   "outputs": [],
   "source": []
  },
  {
   "cell_type": "code",
   "execution_count": null,
   "metadata": {},
   "outputs": [],
   "source": []
  },
  {
   "cell_type": "code",
   "execution_count": null,
   "metadata": {},
   "outputs": [],
   "source": []
  },
  {
   "cell_type": "code",
   "execution_count": null,
   "metadata": {},
   "outputs": [],
   "source": []
  },
  {
   "cell_type": "code",
   "execution_count": null,
   "metadata": {},
   "outputs": [],
   "source": []
  }
 ],
 "metadata": {
  "kernelspec": {
   "display_name": "Python 3",
   "language": "python",
   "name": "python3"
  },
  "language_info": {
   "codemirror_mode": {
    "name": "ipython",
    "version": 3
   },
   "file_extension": ".py",
   "mimetype": "text/x-python",
   "name": "python",
   "nbconvert_exporter": "python",
   "pygments_lexer": "ipython3",
   "version": "3.6.6"
  }
 },
 "nbformat": 4,
 "nbformat_minor": 2
}
