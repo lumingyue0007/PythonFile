{
 "cells": [
  {
   "cell_type": "code",
   "execution_count": 1,
   "metadata": {},
   "outputs": [],
   "source": [
    "class A:\n",
    "    pass"
   ]
  },
  {
   "cell_type": "code",
   "execution_count": 2,
   "metadata": {},
   "outputs": [
    {
     "name": "stdout",
     "output_type": "stream",
     "text": [
      "A\n",
      "__main__\n",
      "<class 'type'>\n"
     ]
    }
   ],
   "source": [
    "print(A.__name__)# 类，函数，方法的名字\n",
    "print(A.__module__)# 当前运行模块名\n",
    "print(A.__class__)# 对象或类所属的类"
   ]
  },
  {
   "cell_type": "code",
   "execution_count": 3,
   "metadata": {},
   "outputs": [],
   "source": [
    "class A:pass\n",
    "class B(A):pass\n",
    "class C(B):pass"
   ]
  },
  {
   "cell_type": "code",
   "execution_count": 4,
   "metadata": {},
   "outputs": [
    {
     "name": "stdout",
     "output_type": "stream",
     "text": [
      "(<class '__main__.B'>,)\n",
      "(<class '__main__.C'>, <class '__main__.B'>, <class '__main__.A'>, <class 'object'>)\n"
     ]
    }
   ],
   "source": [
    "print(C.__bases__)# 类的基类的元组，直接父类\n",
    "print(C.__mro__)# 类的继承解析顺序"
   ]
  },
  {
   "cell_type": "code",
   "execution_count": 5,
   "metadata": {},
   "outputs": [
    {
     "name": "stdout",
     "output_type": "stream",
     "text": [
      "{'__module__': '__main__', '__dict__': <attribute '__dict__' of 'D' objects>, '__weakref__': <attribute '__weakref__' of 'D' objects>, '__doc__': None}\n"
     ]
    }
   ],
   "source": [
    "class D:pass\n",
    "print(D.__dict__)"
   ]
  },
  {
   "cell_type": "code",
   "execution_count": 6,
   "metadata": {},
   "outputs": [
    {
     "name": "stdout",
     "output_type": "stream",
     "text": [
      "['__class__', '__delattr__', '__dict__', '__dir__', '__doc__', '__eq__', '__format__', '__ge__', '__getattribute__', '__gt__', '__hash__', '__init__', '__init_subclass__', '__le__', '__lt__', '__module__', '__ne__', '__new__', '__reduce__', '__reduce_ex__', '__repr__', '__setattr__', '__sizeof__', '__str__', '__subclasshook__', '__weakref__']\n"
     ]
    }
   ],
   "source": [
    "print(dir(D))"
   ]
  },
  {
   "cell_type": "markdown",
   "metadata": {},
   "source": [
    "魔术方法"
   ]
  },
  {
   "cell_type": "markdown",
   "metadata": {},
   "source": [
    "# hash方法"
   ]
  },
  {
   "cell_type": "code",
   "execution_count": 7,
   "metadata": {},
   "outputs": [],
   "source": [
    "# 创建初始化和销毁\n",
    "# 创建 __new__ 创建实例化\n",
    "# 初始化 __init__\n",
    "# 销毁 __del__"
   ]
  },
  {
   "cell_type": "code",
   "execution_count": 8,
   "metadata": {},
   "outputs": [
    {
     "name": "stdout",
     "output_type": "stream",
     "text": [
      "<class '__main__.AA'>\n",
      "('tom',)\n",
      "{}\n",
      "---------------\n"
     ]
    }
   ],
   "source": [
    "class AA:\n",
    "    def __new__(cls,*args, **kwargs):\n",
    "        print(cls)\n",
    "        print(args)\n",
    "        print(kwargs)\n",
    "        return super().__new__(cls)\n",
    "    \n",
    "    def __init__(self, name):\n",
    "        self.name = name\n",
    "        print('---------------')\n",
    "    \n",
    "a = AA('tom')"
   ]
  },
  {
   "cell_type": "markdown",
   "metadata": {},
   "source": [
    "实例化过程中，如果定义了__new__方法，则首先条用__new__方法进行创建实例，并返回本类型实例，然后再调用__init__初始化方法\n",
    "new方法一定要返回一个cls的实例，否则不会调用init方法，该方法永远都是静态方法\n",
    "如果没有定义，则调用object方法"
   ]
  },
  {
   "cell_type": "code",
   "execution_count": 9,
   "metadata": {},
   "outputs": [],
   "source": [
    "class Person:\n",
    "    def __hash__(self):\n",
    "        return 1\n",
    "#         return hash(self.name)\n",
    "    \n",
    "    def __eq__(self, other):\n",
    "        return True\n",
    "    \n",
    "    def __init__(self, name):\n",
    "        self.name = name\n",
    "    \n",
    "    def __repr__(self):\n",
    "        return self.name\n",
    "tom = Person('tom')\n",
    "jerry = Person('jerry')"
   ]
  },
  {
   "cell_type": "code",
   "execution_count": 10,
   "metadata": {},
   "outputs": [
    {
     "name": "stdout",
     "output_type": "stream",
     "text": [
      "[tom, jerry]\n",
      "{tom}\n",
      "{tom: 2}\n"
     ]
    }
   ],
   "source": [
    "print([tom, jerry])\n",
    "print({tom, jerry}) # 去重，因为类hash值返回相同，并且eq返回true，则表示重复（去重）\n",
    "print({tom:1, jerry:2}) # key有去重效果，hash相同，eq相同，则去重（判定后加入的与原有，如果相同，则后加入的去除）。2：赋值效应"
   ]
  },
  {
   "cell_type": "markdown",
   "metadata": {},
   "source": [
    "去重：首先比较is是否相同，然后比较eq\n",
    "hash值相同，不一定去重。还要判断是否相等eq。如果hash值相同，eq内容相等，则会去重"
   ]
  },
  {
   "cell_type": "markdown",
   "metadata": {},
   "source": [
    "如果要一个类不可hash，则定义__hash__ = None\n",
    "如果单独定义了一个eq方法，则类自动定义一个__hash__=None"
   ]
  },
  {
   "cell_type": "code",
   "execution_count": 11,
   "metadata": {},
   "outputs": [],
   "source": [
    "# 练习：设计二维坐标类Point，使其可hash，并比较两个坐标的实例是否相等\n",
    "class Point:\n",
    "    def __init__(self, x, y):\n",
    "        self.x = x\n",
    "        self.y = y\n",
    "    \n",
    "    def __hash__(self):\n",
    "#         return hash(self) # 递归调用，错误\n",
    "        return hash((self.x, self.y))\n",
    "    \n",
    "    def __eq__(self, other):\n",
    "        return self.x == other.x and self.y == self.y\n",
    "        # return self == other (错误，递归调用，等价==》self.__eq__(other))\n",
    "        \n",
    "    def __repr__(self):\n",
    "        return '{},{}'.format(self.x, self.y)"
   ]
  },
  {
   "cell_type": "code",
   "execution_count": 12,
   "metadata": {},
   "outputs": [
    {
     "name": "stdout",
     "output_type": "stream",
     "text": [
      "{1,3}\n"
     ]
    }
   ],
   "source": [
    "p1 = Point(1, 3)\n",
    "p2 = Point(1, 3)\n",
    "print({p1, p2})"
   ]
  },
  {
   "cell_type": "markdown",
   "metadata": {},
   "source": [
    "# bool方法"
   ]
  },
  {
   "cell_type": "code",
   "execution_count": 13,
   "metadata": {},
   "outputs": [
    {
     "name": "stdout",
     "output_type": "stream",
     "text": [
      "1 True\n",
      "2 True\n"
     ]
    }
   ],
   "source": [
    "class A: pass\n",
    "if A:\n",
    "    print(1, True)\n",
    "\n",
    "if A():\n",
    "    print(2, True)"
   ]
  },
  {
   "cell_type": "markdown",
   "metadata": {},
   "source": [
    "当类中没有定义__bool__方法时，默认都是true"
   ]
  },
  {
   "cell_type": "code",
   "execution_count": 14,
   "metadata": {},
   "outputs": [
    {
     "name": "stdout",
     "output_type": "stream",
     "text": [
      "1 --------------\n"
     ]
    }
   ],
   "source": [
    "class A:\n",
    "    def __bool__(self):\n",
    "        return False\n",
    "\n",
    "if A:\n",
    "    print(1, '--------------')\n",
    "if A():\n",
    "    print(2, '++++++++++++++')"
   ]
  },
  {
   "cell_type": "markdown",
   "metadata": {},
   "source": [
    "当类中定义了__bool__方法时，则调用bool方法，该方法必须返回bool值，该方法为实例方法，对类没有影响"
   ]
  },
  {
   "cell_type": "code",
   "execution_count": 15,
   "metadata": {},
   "outputs": [
    {
     "name": "stdout",
     "output_type": "stream",
     "text": [
      "1 ************\n"
     ]
    }
   ],
   "source": [
    "class A:\n",
    "    def __len__(self):\n",
    "        return 1\n",
    "\n",
    "if A():\n",
    "    print(1, '************')"
   ]
  },
  {
   "cell_type": "markdown",
   "metadata": {},
   "source": [
    "len返回容器的长度，如果容器为空，等价为false，否则等价为true"
   ]
  },
  {
   "cell_type": "code",
   "execution_count": 16,
   "metadata": {},
   "outputs": [],
   "source": [
    "class A:\n",
    "    def __bool__(self):\n",
    "        return False\n",
    "    \n",
    "    def __len__(self):\n",
    "        return 1\n",
    "\n",
    "if A():\n",
    "    print(1, '************')"
   ]
  },
  {
   "cell_type": "markdown",
   "metadata": {},
   "source": [
    "如果bool和len同时定义了，则优先调用bool，其次len。\n",
    "如果两者都没有定义，则默认为true"
   ]
  },
  {
   "cell_type": "markdown",
   "metadata": {},
   "source": [
    "# 可视化"
   ]
  },
  {
   "cell_type": "code",
   "execution_count": 17,
   "metadata": {},
   "outputs": [],
   "source": [
    "class A:\n",
    "    def __init__(self, name):\n",
    "        self.name = name\n",
    "    \n",
    "    def __repr__(self):\n",
    "        return 'repr name={}'.format(self.name)\n",
    "    \n",
    "    def __str__(self):\n",
    "        return 'str name={}'.format(self.name)"
   ]
  },
  {
   "cell_type": "code",
   "execution_count": 18,
   "metadata": {},
   "outputs": [
    {
     "name": "stdout",
     "output_type": "stream",
     "text": [
      "<class '__main__.A'>\n",
      "str name=tom\n",
      "str name=tom\n",
      "str name=tom\n"
     ]
    }
   ],
   "source": [
    "print(A)\n",
    "print(A('tom'))\n",
    "print('{}'.format(A('tom')))\n",
    "print(str(A('tom')))"
   ]
  },
  {
   "cell_type": "code",
   "execution_count": 19,
   "metadata": {},
   "outputs": [
    {
     "name": "stdout",
     "output_type": "stream",
     "text": [
      "repr name=tom\n"
     ]
    }
   ],
   "source": [
    "print(repr(A('tom')))"
   ]
  },
  {
   "cell_type": "markdown",
   "metadata": {},
   "source": [
    "如果是str，print，format直接调用，则优先调用str方法，如果没有定义str方法，则调用repr方法，如果没有定义repr方法，则返回对象内存地址信息\n",
    "除此之外，则调用repr方法，如果repr方法没有定义，则返回对象内存地址信息\n",
    "一般情况下，直接定义repr方法"
   ]
  },
  {
   "cell_type": "markdown",
   "metadata": {},
   "source": [
    "运算符重载"
   ]
  },
  {
   "cell_type": "code",
   "execution_count": 20,
   "metadata": {},
   "outputs": [],
   "source": [
    "class A:\n",
    "    def __init__(self, name, age):\n",
    "        self.name = name\n",
    "        self.age = age\n",
    "    \n",
    "    def __sub__(self, other):\n",
    "        return self.age - other.age\n",
    "\n",
    "    def __isub__(self, other):\n",
    "#         self.age -= other.age\n",
    "#         return self\n",
    "        return self.__class__(self.name, self - other)"
   ]
  },
  {
   "cell_type": "code",
   "execution_count": 21,
   "metadata": {},
   "outputs": [
    {
     "name": "stdout",
     "output_type": "stream",
     "text": [
      "2\n",
      "2\n"
     ]
    }
   ],
   "source": [
    "tom = A('tom', 20)\n",
    "jerry = A('jerry', 18)\n",
    "print(tom - jerry)\n",
    "tom -= jerry\n",
    "print(tom.age)"
   ]
  },
  {
   "cell_type": "code",
   "execution_count": 22,
   "metadata": {},
   "outputs": [],
   "source": [
    "# 练习：完成point类设计，实现向量的加法\n",
    "class Point:\n",
    "    def __init__(self, x, y):\n",
    "        self.x = x\n",
    "        self.y = y\n",
    "    \n",
    "    def __add__(self, other):\n",
    "        return Point(self.x + other.x, self.y + other.y)# 最好能返回一个同类型\n",
    "    \n",
    "    def __iadd__(self, other):\n",
    "        self.x += other.x\n",
    "        self.y += other.y\n",
    "        return self\n",
    "        \n",
    "    def __repr__(self):\n",
    "        return '{},{}'.format(self.x, self.y)"
   ]
  },
  {
   "cell_type": "code",
   "execution_count": 23,
   "metadata": {},
   "outputs": [
    {
     "name": "stdout",
     "output_type": "stream",
     "text": [
      "3,7\n",
      "<class '__main__.Point'>\n",
      "------------------------------\n",
      "3,7\n"
     ]
    }
   ],
   "source": [
    "p1 = Point(1, 3)\n",
    "p2 = Point(2, 4)\n",
    "p3 = p1 + p2\n",
    "print(p3)\n",
    "print(type(p3))\n",
    "print('-'*30)\n",
    "p1 += p2\n",
    "print(p1)"
   ]
  },
  {
   "cell_type": "code",
   "execution_count": 24,
   "metadata": {},
   "outputs": [],
   "source": [
    "class Person:\n",
    "    def __init__(self, name, age):\n",
    "        self.name = name\n",
    "        self.age = age\n",
    "    \n",
    "    def __eq__(self, other):\n",
    "        return self.age == other.age\n",
    "    \n",
    "    def __gt__(self, other):\n",
    "        return self.age > other.age\n",
    "    \n",
    "    def __ge__(self, other):\n",
    "        return self.age >= other.age"
   ]
  },
  {
   "cell_type": "code",
   "execution_count": 25,
   "metadata": {},
   "outputs": [
    {
     "name": "stdout",
     "output_type": "stream",
     "text": [
      "False\n",
      "True\n",
      "False\n",
      "True\n",
      "False\n",
      "True\n"
     ]
    }
   ],
   "source": [
    "tom = Person('tom', 20)\n",
    "jerry = Person('jerry', 30)\n",
    "print(tom == jerry)\n",
    "print(tom != jerry)\n",
    "print(tom > jerry)\n",
    "print(tom < jerry)\n",
    "print(tom >= jerry)\n",
    "print(tom <= jerry)"
   ]
  },
  {
   "cell_type": "markdown",
   "metadata": {},
   "source": [
    "# 容器方法"
   ]
  },
  {
   "cell_type": "markdown",
   "metadata": {},
   "source": [
    "__len__:\n",
    "    内建函数，返回对象的长度（>=0的整数），bool函数调用的时候，如果没有定义bool方法，则调用len方法\n",
    "__iter__:\n",
    "    迭代容器，返回一个新的迭代对象\n",
    "__contains__:\n",
    "    in成员运算符，调用iter方法遍历\n",
    "__getitem__:\n",
    "    实现self[key]时访问。key不存在时引发keyerror异常\n",
    "__setitem__:\n",
    "    和getitem类似，设置值得方法\n",
    "__missint__:\n",
    "    字典或子类使用getitem时，key不存在时执行该方法"
   ]
  },
  {
   "cell_type": "code",
   "execution_count": 26,
   "metadata": {},
   "outputs": [],
   "source": [
    "# 练习：将购物车改造成容器类\n",
    "class Cart:\n",
    "    def __init__(self):\n",
    "        self.item = []\n",
    "    \n",
    "    def additem(self, item):\n",
    "        self.item.append(item)\n",
    "    \n",
    "    def __len__(self):\n",
    "        return len(self.item)\n",
    "    \n",
    "    def __iter__(self):\n",
    "#         return iter(self.item)\n",
    "        yield from self.item\n",
    "    \n",
    "    def __getitem__(self, index):\n",
    "        return self.item[index]\n",
    "    \n",
    "    def __setitem__(self, index, value):\n",
    "        self.item[index] = value\n",
    "        \n",
    "    def __add__(self, other):\n",
    "        self.item.append(other)\n",
    "        return self"
   ]
  },
  {
   "cell_type": "code",
   "execution_count": 27,
   "metadata": {},
   "outputs": [
    {
     "name": "stdout",
     "output_type": "stream",
     "text": [
      "3\n",
      "True\n",
      "False\n",
      "[1, 2, 'abc', 5, 77, 100]\n",
      "abc\n"
     ]
    }
   ],
   "source": [
    "car = Cart()\n",
    "car.additem(1)\n",
    "car.additem(2)\n",
    "car.additem(3)\n",
    "car[2] = 'abc'\n",
    "print(len(car))\n",
    "print(2 in car)\n",
    "print(12 in car)\n",
    "car + 5 + 77 + 100\n",
    "print(list(car))\n",
    "print(car[2])"
   ]
  },
  {
   "cell_type": "markdown",
   "metadata": {},
   "source": [
    "# 可调用对象"
   ]
  },
  {
   "cell_type": "code",
   "execution_count": 28,
   "metadata": {},
   "outputs": [
    {
     "data": {
      "text/plain": [
       "True"
      ]
     },
     "execution_count": 28,
     "metadata": {},
     "output_type": "execute_result"
    }
   ],
   "source": [
    "def fn(): pass\n",
    "callable(fn)"
   ]
  },
  {
   "cell_type": "code",
   "execution_count": 29,
   "metadata": {},
   "outputs": [],
   "source": [
    "class A:\n",
    "    def __call__(self, *args, **kwargs):\n",
    "        print('call')"
   ]
  },
  {
   "cell_type": "code",
   "execution_count": 30,
   "metadata": {},
   "outputs": [
    {
     "name": "stdout",
     "output_type": "stream",
     "text": [
      "call\n"
     ]
    }
   ],
   "source": [
    "a = A()\n",
    "a()"
   ]
  },
  {
   "cell_type": "markdown",
   "metadata": {},
   "source": [
    "在类中定义个call方法，实例就可以像函数一样调用"
   ]
  },
  {
   "cell_type": "code",
   "execution_count": 31,
   "metadata": {},
   "outputs": [],
   "source": [
    "#练习：定义一个斐波那契数列的类，方便调用，计算第n项\n",
    "class Fib:\n",
    "    def __init__(self):\n",
    "        self.item = [0, 1, 1]\n",
    "        \n",
    "    def __call__(self, n):\n",
    "        if n >= len(self.item):\n",
    "            for i in range(len(self.item), n+1):\n",
    "                self.item.append(self.item[i-1] + self.item[i-2])\n",
    "        return self.item[n]\n",
    "    \n",
    "    def __getitem__(self, index):\n",
    "        return self(index)\n",
    "    \n",
    "    def __len__(self):\n",
    "        return len(self.item)\n",
    "    \n",
    "    def __iter__(self):\n",
    "        yield from self.item"
   ]
  },
  {
   "cell_type": "code",
   "execution_count": 32,
   "metadata": {},
   "outputs": [
    {
     "name": "stdout",
     "output_type": "stream",
     "text": [
      "55\n",
      "610\n",
      "[0, 1, 1, 2, 3, 5, 8, 13, 21, 34, 55, 89, 144, 233, 377, 610]\n",
      "16\n",
      "0 1 1 2 3 5 8 13 21 34 55 89 144 233 377 610 "
     ]
    }
   ],
   "source": [
    "f = Fib()\n",
    "print(f(10))\n",
    "print(f[15])\n",
    "print(f.item)\n",
    "print(len(f))\n",
    "for x in f:\n",
    "    print(x, end=' ')"
   ]
  },
  {
   "cell_type": "markdown",
   "metadata": {},
   "source": [
    "# 上下文管理"
   ]
  },
  {
   "cell_type": "code",
   "execution_count": 33,
   "metadata": {},
   "outputs": [],
   "source": [
    "class A:\n",
    "    def __init__(self):\n",
    "        print('init')\n",
    "    \n",
    "    def __enter__(self):\n",
    "        print('enter')\n",
    "        return self\n",
    "    \n",
    "    def __exit__(self, exc_type, exc_val, exc_tb):\n",
    "        print('exit')"
   ]
  },
  {
   "cell_type": "code",
   "execution_count": 34,
   "metadata": {},
   "outputs": [
    {
     "name": "stdout",
     "output_type": "stream",
     "text": [
      "init\n",
      "enter\n",
      "True\n",
      "<__main__.A object at 0x0000000004E8C400> <__main__.A object at 0x0000000004E8C400>\n",
      "exit\n"
     ]
    }
   ],
   "source": [
    "a = A()\n",
    "with a as f:\n",
    "    print(a == f)# 如果用as语法，其enter的返回值为f的值\n",
    "    print(a, f)"
   ]
  },
  {
   "cell_type": "markdown",
   "metadata": {},
   "source": [
    "应用场景：\n",
    "    1. 增强功能，类似装饰器，在enter和exit功能添加功能\n",
    "    2. 资源管理，打开资料需要关闭\n",
    "    3. 权限验证，在enter中处理"
   ]
  },
  {
   "cell_type": "code",
   "execution_count": 35,
   "metadata": {},
   "outputs": [],
   "source": [
    "from contextlib import contextmanager"
   ]
  },
  {
   "cell_type": "code",
   "execution_count": 36,
   "metadata": {},
   "outputs": [],
   "source": [
    "@contextmanager\n",
    "def foo():\n",
    "    print('enter')\n",
    "    try:\n",
    "        yield 123\n",
    "    finally:\n",
    "        print('exit')"
   ]
  },
  {
   "cell_type": "code",
   "execution_count": 37,
   "metadata": {},
   "outputs": [
    {
     "name": "stdout",
     "output_type": "stream",
     "text": [
      "enter\n",
      "------------------------------\n",
      "123\n",
      "------------------------------\n",
      "exit\n"
     ]
    }
   ],
   "source": [
    "with foo() as f:\n",
    "    print('-'*30)\n",
    "    print(f)\n",
    "    print('-'*30)"
   ]
  },
  {
   "cell_type": "markdown",
   "metadata": {},
   "source": [
    "用contexemanager为一个函数，增加上下文管理的机制\n",
    "yield之前作为enter的方式执行\n",
    "yield之后作为exit的方式执行\n",
    "yield的值作为enter的返回值"
   ]
  },
  {
   "cell_type": "markdown",
   "metadata": {},
   "source": [
    "# 反射"
   ]
  },
  {
   "cell_type": "code",
   "execution_count": 38,
   "metadata": {},
   "outputs": [],
   "source": [
    "class Point:\n",
    "    def __init__(self, x, y):\n",
    "        self.x = x\n",
    "        self.y = y"
   ]
  },
  {
   "cell_type": "code",
   "execution_count": 39,
   "metadata": {},
   "outputs": [
    {
     "name": "stdout",
     "output_type": "stream",
     "text": [
      "{'__module__': '__main__', '__init__': <function Point.__init__ at 0x0000000004EA0488>, '__dict__': <attribute '__dict__' of 'Point' objects>, '__weakref__': <attribute '__weakref__' of 'Point' objects>, '__doc__': None, 'z': 500}\n"
     ]
    }
   ],
   "source": [
    "Point.z = 100\n",
    "setattr(Point, 'z', 500) # 两个方法等价，都是增加类属性\n",
    "print(Point.__dict__)"
   ]
  },
  {
   "cell_type": "code",
   "execution_count": 40,
   "metadata": {},
   "outputs": [
    {
     "data": {
      "text/plain": [
       "(1, 1)"
      ]
     },
     "execution_count": 40,
     "metadata": {},
     "output_type": "execute_result"
    }
   ],
   "source": [
    "p1 = Point(1, 4)\n",
    "p1.x, getattr(p1, 'x')# 两个方法等价, 获取实例属性"
   ]
  },
  {
   "cell_type": "code",
   "execution_count": 41,
   "metadata": {},
   "outputs": [
    {
     "name": "stdout",
     "output_type": "stream",
     "text": [
      "2 5\n",
      "{'x': 2, 'y': 5}\n",
      "{'__module__': '__main__', '__init__': <function Point.__init__ at 0x0000000004EA0488>, '__dict__': <attribute '__dict__' of 'Point' objects>, '__weakref__': <attribute '__weakref__' of 'Point' objects>, '__doc__': None, 'z': 500, 'show': <function <lambda> at 0x0000000004EA0D08>}\n"
     ]
    }
   ],
   "source": [
    "Point.show = lambda self:print(self.x, self.y)\n",
    "# setattr(Point, 'show', lambda self: print(self.x, self.y)) 该方法等价于上一行，增加类方法\n",
    "p2 = Point(2, 5)\n",
    "p2.show() # 该方式下增加的方法，会自动绑定self\n",
    "print(p2.__dict__)\n",
    "print(Point.__dict__)"
   ]
  },
  {
   "cell_type": "code",
   "execution_count": 42,
   "metadata": {},
   "outputs": [
    {
     "name": "stdout",
     "output_type": "stream",
     "text": [
      "1 4\n",
      "{'x': 1, 'y': 4, 'show': <function <lambda> at 0x0000000004EA0F28>}\n"
     ]
    }
   ],
   "source": [
    "p1.show = lambda self:print(self.x, self.y)\n",
    "# setattr(p1, 'show', lambda self:print(self.x, self.y))  该方式等价于p1.show。。。增加实例方法\n",
    "p1.show(p1) # 该方式下定义的实例方法，不会绑定self，调用的时候，需要手动传入\n",
    "print(p1.__dict__)"
   ]
  },
  {
   "cell_type": "markdown",
   "metadata": {},
   "source": [
    "反射：运行时，动态的增删类或者实例的方式，装饰器和mixin都是定义时就确定的，因此反射能力具有更大的灵活性"
   ]
  },
  {
   "cell_type": "code",
   "execution_count": 43,
   "metadata": {},
   "outputs": [],
   "source": [
    "# 练习：命令分发器，通过名称查到对应的函数执行\n",
    "class Dispatcher: \n",
    "    def reg(self, cmd, fn):\n",
    "        setattr(self, cmd, fn)\n",
    "    \n",
    "    def run(self):\n",
    "        while True:\n",
    "            cmd = input('>>>').strip()\n",
    "            if cmd == 'quit':\n",
    "                break\n",
    "            para = input('input para >>>').split(',')\n",
    "            getattr(self, cmd, lambda :print('unknown cmd {}'.format(cmd)))(*para)"
   ]
  },
  {
   "cell_type": "code",
   "execution_count": 44,
   "metadata": {
    "scrolled": true
   },
   "outputs": [
    {
     "name": "stdout",
     "output_type": "stream",
     "text": [
      ">>>a\n",
      "input para >>>1,2\n",
      "12\n",
      ">>>quit\n"
     ]
    }
   ],
   "source": [
    "def add(x, y):\n",
    "    print(x + y)\n",
    "    \n",
    "dis = Dispatcher()\n",
    "dis.reg('a', add)\n",
    "dis.run()"
   ]
  },
  {
   "cell_type": "code",
   "execution_count": null,
   "metadata": {},
   "outputs": [],
   "source": []
  },
  {
   "cell_type": "code",
   "execution_count": 53,
   "metadata": {},
   "outputs": [],
   "source": [
    "class A:\n",
    "    z = 1000\n",
    "    def __init__(self, x, y):\n",
    "        self.x = x\n",
    "        self.y = y\n",
    "        \n",
    "    def __getattr__(self, item):\n",
    "        print(item, '-'*30)"
   ]
  },
  {
   "cell_type": "code",
   "execution_count": 54,
   "metadata": {},
   "outputs": [
    {
     "name": "stdout",
     "output_type": "stream",
     "text": [
      "b ------------------------------\n"
     ]
    }
   ],
   "source": [
    "a = A(1, 4)\n",
    "a.x\n",
    "a.z\n",
    "a.b"
   ]
  },
  {
   "cell_type": "markdown",
   "metadata": {},
   "source": [
    "一个类的属性会按照继承关系查找，如果找不到，则调用getattr方法，如果没有这个方法，则抛出异常"
   ]
  },
  {
   "cell_type": "code",
   "execution_count": 61,
   "metadata": {},
   "outputs": [],
   "source": [
    "class A:\n",
    "    z = 1000\n",
    "    def __init__(self, x, y):\n",
    "        self.x = x\n",
    "        self.y = y\n",
    "    \n",
    "    def __setattr__(self, key, value):\n",
    "        print(key, value, '++++++++++++++')\n",
    "        self.__dict__[key] = value"
   ]
  },
  {
   "cell_type": "code",
   "execution_count": 64,
   "metadata": {},
   "outputs": [
    {
     "name": "stdout",
     "output_type": "stream",
     "text": [
      "x 1 ++++++++++++++\n",
      "y 2 ++++++++++++++\n",
      "x 5 ++++++++++++++\n",
      "{'x': 5, 'y': 2}\n",
      "5\n"
     ]
    }
   ],
   "source": [
    "a = A(1, 2)\n",
    "a.x = 5\n",
    "print(a.__dict__)\n",
    "print(a.x)"
   ]
  },
  {
   "cell_type": "markdown",
   "metadata": {},
   "source": [
    "实例通过.号设置属性，例如：a.x=10，就会调用setattr，属性要添加到实例额的dict中，这个需要自己完成"
   ]
  },
  {
   "cell_type": "code",
   "execution_count": 69,
   "metadata": {},
   "outputs": [],
   "source": [
    "class A:\n",
    "    z = 1000\n",
    "    def __init__(self, x, y):\n",
    "        self.x = x\n",
    "        self.y = y\n",
    "    \n",
    "    def __delattr__(self, item):\n",
    "        print('*'*30)"
   ]
  },
  {
   "cell_type": "code",
   "execution_count": 71,
   "metadata": {},
   "outputs": [
    {
     "name": "stdout",
     "output_type": "stream",
     "text": [
      "******************************\n"
     ]
    }
   ],
   "source": [
    "a = A(1,2)\n",
    "del a.x"
   ]
  },
  {
   "cell_type": "markdown",
   "metadata": {},
   "source": [
    "实例通过del删除实例属性时，则调用该方法"
   ]
  },
  {
   "cell_type": "code",
   "execution_count": 72,
   "metadata": {},
   "outputs": [],
   "source": [
    "class A:\n",
    "    z = 1000\n",
    "    def __init__(self, x, y):\n",
    "        self.x = x\n",
    "        self.y = y\n",
    "    \n",
    "    def __getattribute__(self, item):\n",
    "        print('*'*30)\n",
    "        return object.__getattribute__(self, item)"
   ]
  },
  {
   "cell_type": "code",
   "execution_count": 74,
   "metadata": {},
   "outputs": [
    {
     "name": "stdout",
     "output_type": "stream",
     "text": [
      "******************************\n",
      "1\n"
     ]
    }
   ],
   "source": [
    "a = A(1, 2)\n",
    "print(a.x)"
   ]
  },
  {
   "cell_type": "markdown",
   "metadata": {},
   "source": [
    "实例的所有属性访问，第一个都会调用getattribute方法，他可以阻止属性的查找，"
   ]
  },
  {
   "cell_type": "markdown",
   "metadata": {},
   "source": [
    "总结：\n",
    "    getattr 当通过搜索实例，实例的类及祖先类查找不到属性，则会调用此方法\n",
    "    setattr 通过.访问实例属性，进行增加，修改，都会调用该方法\n",
    "    delattr 当通过实例来删除属性时，调用该方法\n",
    "    getattribute 实例所有的属性调用都从这个方法开始"
   ]
  },
  {
   "cell_type": "markdown",
   "metadata": {},
   "source": [
    "# 描述器"
   ]
  },
  {
   "cell_type": "code",
   "execution_count": 92,
   "metadata": {},
   "outputs": [
    {
     "name": "stdout",
     "output_type": "stream",
     "text": [
      "A(). init~~~~~~~~~~~\n"
     ]
    }
   ],
   "source": [
    "class A:\n",
    "    def __init__(self):\n",
    "        print('A(). init~~~~~~~~~~~')\n",
    "        self.x = 100\n",
    "        \n",
    "    def __get__(self, instance, owner):\n",
    "        print(self, instance, owner, '$'*30)\n",
    "        return self\n",
    "    \n",
    "    def __repr__(self):\n",
    "        return '<A {}>'.format(self.x)\n",
    "class B:\n",
    "    a = A()\n",
    "    def __init__(self):\n",
    "        self.y = 200"
   ]
  },
  {
   "cell_type": "code",
   "execution_count": 93,
   "metadata": {},
   "outputs": [
    {
     "name": "stdout",
     "output_type": "stream",
     "text": [
      "<A 100> None <class '__main__.B'> $$$$$$$$$$$$$$$$$$$$$$$$$$$$$$\n",
      "<A 100>\n",
      "<A 100> None <class '__main__.B'> $$$$$$$$$$$$$$$$$$$$$$$$$$$$$$\n",
      "100\n"
     ]
    }
   ],
   "source": [
    "# B类的调用\n",
    "print(B.a)\n",
    "print(B.a.x)"
   ]
  },
  {
   "cell_type": "code",
   "execution_count": 94,
   "metadata": {},
   "outputs": [
    {
     "name": "stdout",
     "output_type": "stream",
     "text": [
      "<A 100> <__main__.B object at 0x000000000828FBE0> <class '__main__.B'> $$$$$$$$$$$$$$$$$$$$$$$$$$$$$$\n",
      "<A 100>\n",
      "<A 100> <__main__.B object at 0x000000000828FBE0> <class '__main__.B'> $$$$$$$$$$$$$$$$$$$$$$$$$$$$$$\n",
      "100\n"
     ]
    }
   ],
   "source": [
    "# b的实例调用\n",
    "b = B()\n",
    "print(b.a)\n",
    "print(b.a.x)"
   ]
  },
  {
   "cell_type": "code",
   "execution_count": 100,
   "metadata": {},
   "outputs": [
    {
     "name": "stdout",
     "output_type": "stream",
     "text": [
      "A(). init~~~~~~~~~~~\n"
     ]
    }
   ],
   "source": [
    "class A:\n",
    "    def __init__(self):\n",
    "        print('A(). init~~~~~~~~~~~')\n",
    "        self.x = 100\n",
    "        \n",
    "    def __get__(self, instance, owner):\n",
    "        print(self, instance, owner, '$'*30)\n",
    "        return self\n",
    "    \n",
    "    def __set__(self, instance, value):\n",
    "        print(self, instance, value, '-'*30)\n",
    "    \n",
    "    def __repr__(self):\n",
    "        return '<A {}>'.format(self.x)\n",
    "class B:\n",
    "    a = A()\n",
    "    def __init__(self):\n",
    "        self.y = 200"
   ]
  },
  {
   "cell_type": "code",
   "execution_count": 105,
   "metadata": {},
   "outputs": [],
   "source": [
    "b = B()\n",
    "b.y = 100"
   ]
  },
  {
   "cell_type": "code",
   "execution_count": 107,
   "metadata": {},
   "outputs": [
    {
     "name": "stdout",
     "output_type": "stream",
     "text": [
      "<A 1> <__main__.B object at 0x000000000828F860> 1000 ------------------------------\n"
     ]
    }
   ],
   "source": [
    "b.a = 1000"
   ]
  },
  {
   "cell_type": "code",
   "execution_count": 115,
   "metadata": {},
   "outputs": [
    {
     "name": "stdout",
     "output_type": "stream",
     "text": [
      "A(). init~~~~~~~~~~~\n"
     ]
    }
   ],
   "source": [
    "class A:\n",
    "    def __init__(self):\n",
    "        print('A(). init~~~~~~~~~~~')\n",
    "        self.x = 100\n",
    "        \n",
    "    def __get__(self, instance, owner):\n",
    "        print(self, instance, owner, '$'*30)\n",
    "        return self\n",
    "    \n",
    "    def __set__(self, instance, value):\n",
    "        print(self, instance, value, '-'*30)\n",
    "    \n",
    "    def __delete__(self, instance):\n",
    "        print(self, instance, '+'*30)\n",
    "    \n",
    "    def __repr__(self):\n",
    "        return '<A {}>'.format(self.x)\n",
    "class B:\n",
    "    a = A()\n",
    "    def __init__(self):\n",
    "        self.x = 200"
   ]
  },
  {
   "cell_type": "code",
   "execution_count": 116,
   "metadata": {},
   "outputs": [
    {
     "name": "stdout",
     "output_type": "stream",
     "text": [
      "<A 100> <__main__.B object at 0x000000000828FDA0> ++++++++++++++++++++++++++++++\n"
     ]
    }
   ],
   "source": [
    "b = B()\n",
    "del b.a"
   ]
  },
  {
   "cell_type": "code",
   "execution_count": 123,
   "metadata": {},
   "outputs": [
    {
     "name": "stdout",
     "output_type": "stream",
     "text": [
      "<A 222> <__main__.B object at 0x000000000828FDA0> <class '__main__.B'> $$$$$$$$$$$$$$$$$$$$$$$$$$$$$$\n"
     ]
    }
   ],
   "source": [
    "b.a.x = 222"
   ]
  },
  {
   "cell_type": "code",
   "execution_count": 113,
   "metadata": {},
   "outputs": [
    {
     "name": "stdout",
     "output_type": "stream",
     "text": [
      "<A 100> <__main__.B object at 0x00000000086B88D0> ++++++++++++++++++++++++++++++\n"
     ]
    }
   ],
   "source": [
    "b = B()\n",
    "del b.a"
   ]
  },
  {
   "cell_type": "markdown",
   "metadata": {},
   "source": [
    "总结：\n",
    "    一个类，实现get，set，delete三个方法中的任何一个，就是描述器\n",
    "    只实现get方法的，是非数据描述器\n",
    "    同时实现了get，set方法的就是数据描述器\n",
    "    \n",
    "    非数据描述器，属性访问时，优先使用自己的\n",
    "    数据描述器，属性访问时，优先使用描述器的"
   ]
  },
  {
   "cell_type": "code",
   "execution_count": 131,
   "metadata": {},
   "outputs": [
    {
     "name": "stdout",
     "output_type": "stream",
     "text": [
      "<__main__.StaticMethod object at 0x0000000007ED0EB8> <__main__.A object at 0x0000000007ED0F28> <class '__main__.A'>\n",
      "static method called\n",
      "++++++++++++++++++++++++++++++\n",
      "<__main__.ClassMethod object at 0x0000000007ED0FD0> <__main__.A object at 0x0000000007ED0F28> <class '__main__.A'>\n",
      "class method called\n"
     ]
    }
   ],
   "source": [
    "# 练习：staticmethod, classmethod方法实现\n",
    "class StaticMethod:\n",
    "    def __init__(self, fn):\n",
    "        self.fn = fn\n",
    "    \n",
    "    def __get__(self, instance, owner):\n",
    "        print(self, instance, owner)\n",
    "        return self.fn\n",
    "    \n",
    "from functools import partial\n",
    "class ClassMethod:\n",
    "    def __init__(self, fn):\n",
    "        self.fn = fn\n",
    "    \n",
    "    def __get__(self, instance, owner):\n",
    "        print(self, instance, owner)\n",
    "        return partial(self.fn, owner) # 偏函数，先固定函数的一个参数\n",
    "    \n",
    "class A:\n",
    "    @StaticMethod  # foo = StaticMethod(foo)  这就是一个非数据描述器\n",
    "    def foo():\n",
    "        print('static method called')\n",
    "\n",
    "    @ClassMethod # bar = ClassMethod(bar)  这就是一个非数据描述器\n",
    "    def bar(cls):\n",
    "        print('class method called')\n",
    "# 静态类方法调用\n",
    "a = A()\n",
    "a.foo()\n",
    "print('+'*30)\n",
    "# 类方法调用\n",
    "a.bar()"
   ]
  },
  {
   "cell_type": "code",
   "execution_count": 192,
   "metadata": {},
   "outputs": [
    {
     "name": "stdout",
     "output_type": "stream",
     "text": [
      "ok -----------------\n",
      "ok -----------------\n"
     ]
    }
   ],
   "source": [
    "# 练习：数据类型检查     普通做法\n",
    "class Person:\n",
    "    def __init__(self, name:str, age:int):\n",
    "        params = ((name, str), (age, int))\n",
    "        if not self.checkdata(params):\n",
    "            raise TypeError\n",
    "        self.name = name\n",
    "        self.age = age\n",
    "        print('ok -----------------')\n",
    "        \n",
    "    def checkdata(self, params):\n",
    "        for k,v in params:\n",
    "            if not isinstance(k, v):\n",
    "                return False\n",
    "        return True\n",
    "\n",
    "p1 = Person('tom', 18)\n",
    "p2 = Person('jerry', 1)"
   ]
  },
  {
   "cell_type": "code",
   "execution_count": 145,
   "metadata": {},
   "outputs": [
    {
     "name": "stdout",
     "output_type": "stream",
     "text": [
      "{'name': 'tom', 'age': 18}\n",
      "tom 18\n"
     ]
    }
   ],
   "source": [
    "# 练习：数据类型检查     描述器做法\n",
    "class TypeCheck:\n",
    "    def __init__(self, name, type):\n",
    "        self.name = name\n",
    "        self.type = type\n",
    "        \n",
    "    def __get__(self, instance, owner):\n",
    "        if instance is not None:\n",
    "            return instance.__dict__[self.name]\n",
    "        return self\n",
    "    \n",
    "    def __set__(self, instance, value):\n",
    "        if not isinstance(value, self.type):\n",
    "            raise TypeError\n",
    "        instance.__dict__[self.name] = value # 数据保存在Person实例的字典中\n",
    "\n",
    "class Person:\n",
    "    # 要用描述器，则必须用类属性。而且数据描述器的优先级高于实例的属性\n",
    "    name = TypeCheck('name', str)  # 输入的已知：name 和 name的类型\n",
    "    age = TypeCheck('age', int)  # 输入的已知：age 和 age的类型\n",
    "    \n",
    "    def __init__(self, name:str, age:int):\n",
    "        self.name = name\n",
    "        self.age = age\n",
    "\n",
    "p1 = Person('tom', 18)\n",
    "print(p1.__dict__)\n",
    "print(p1.name, p1.age)"
   ]
  },
  {
   "cell_type": "code",
   "execution_count": 168,
   "metadata": {},
   "outputs": [
    {
     "name": "stdout",
     "output_type": "stream",
     "text": [
      "tom 12\n"
     ]
    }
   ],
   "source": [
    "# 练习：数据类型检查     描述器做法\n",
    "class TypeCheck:\n",
    "    def __init__(self, name, type):\n",
    "        self.data = {} # 自己开辟一个字典，存储属性\n",
    "        self.name = name\n",
    "        self.type = type\n",
    "        \n",
    "    def __get__(self, instance, owner):\n",
    "        if instance is not None:\n",
    "            return self.data[self.name]\n",
    "        return self\n",
    "    \n",
    "    def __set__(self, instance, value):\n",
    "        if not isinstance(value, self.type):\n",
    "            raise TypeError\n",
    "        self.data[self.name] = value\n",
    "\n",
    "class Person:\n",
    "    # 要用描述器，则必须用类属性。而且数据描述器的优先级高于实例的属性\n",
    "    name = TypeCheck('name', str)  # 输入的已知：name 和 name的类型\n",
    "    age = TypeCheck('age', int)  # 输入的已知：age 和 age的类型\n",
    "    \n",
    "    def __init__(self, name:str, age:int):\n",
    "        self.name = name\n",
    "        self.age = age\n",
    "\n",
    "p1 = Person('tom', 12)\n",
    "print(p1.name, p1.age)"
   ]
  },
  {
   "cell_type": "code",
   "execution_count": 184,
   "metadata": {},
   "outputs": [
    {
     "name": "stdout",
     "output_type": "stream",
     "text": [
      "tom 11\n"
     ]
    }
   ],
   "source": [
    "# 练习：数据类型检查     描述器做法 同时使用装饰器\n",
    "class TypeCheck:\n",
    "    def __init__(self, name, type):\n",
    "        self.name = name\n",
    "        self.type = type\n",
    "        self.data = {}\n",
    "    \n",
    "    def __get__(self, instance, owner):\n",
    "        if instance is not None:\n",
    "            return self.data[self.name]\n",
    "        return self\n",
    "    \n",
    "    def __set__(self, instance, value):\n",
    "        if not isinstance(value, self.type):\n",
    "            raise TypeError\n",
    "        self.data[self.name] = value\n",
    "\n",
    "import inspect\n",
    "def typeassert(cls):\n",
    "    sig = inspect.signature(cls)\n",
    "    params = sig.parameters\n",
    "    for name, param in params.items():\n",
    "        if param.annotation != param.empty:\n",
    "            setattr(cls, name, TypeCheck(name, param.annotation))\n",
    "    return cls\n",
    "\n",
    "@typeassert # Person = typeassert(Person)\n",
    "class Person:\n",
    "    def __init__(self, name:str, age:int):\n",
    "        self.name = name\n",
    "        self.age = age\n",
    "\n",
    "p1 = Person('tom', 11)\n",
    "print(p1.name, p1.age)"
   ]
  },
  {
   "cell_type": "code",
   "execution_count": 191,
   "metadata": {},
   "outputs": [
    {
     "name": "stdout",
     "output_type": "stream",
     "text": [
      "tom 1\n"
     ]
    }
   ],
   "source": [
    "# 练习：数据类型检查     描述器做法 同时使用装饰器, 将上面的装饰函数，改成装饰类\n",
    "class TypeCheck:\n",
    "    def __init__(self, name, type):\n",
    "        self.name = name\n",
    "        self.type = type\n",
    "        self.data = {}\n",
    "    \n",
    "    def __get__(self, instance, owner):\n",
    "        if instance is not None:\n",
    "            return self.data[self.name]\n",
    "        return self\n",
    "    \n",
    "    def __set__(self, instance, value):\n",
    "        if not isinstance(value, self.type):\n",
    "            raise TypeError\n",
    "        self.data[self.name] = value\n",
    "\n",
    "import inspect\n",
    "class TypeAssert:\n",
    "    def __init__(self, cls):\n",
    "        self.cls = cls\n",
    "    \n",
    "    def __call__(self, *args, **kwargs): # 因为TypeAssert要可调用，则用call方法，构建一个新的cls实例，返回出去，给Person\n",
    "        sig = inspect.signature(self.cls)\n",
    "        params = sig.parameters\n",
    "        for name, param in params.items():\n",
    "            if param.annotation != param.empty:\n",
    "                setattr(self.cls, name, TypeCheck(name, param.annotation))\n",
    "        return self.cls(*args, **kwargs)\n",
    "\n",
    "@TypeAssert # Person = TypeAssert(Person)\n",
    "class Person:\n",
    "    def __init__(self, name:str, age:int):\n",
    "        self.name = name\n",
    "        self.age = age\n",
    "\n",
    "p1 = Person('tom', 1)\n",
    "print(p1.name, p1.age)"
   ]
  },
  {
   "cell_type": "code",
   "execution_count": 225,
   "metadata": {},
   "outputs": [
    {
     "name": "stdout",
     "output_type": "stream",
     "text": [
      "10\n",
      "===========\n",
      "100\n"
     ]
    }
   ],
   "source": [
    "# 进阶题：property 数据描述器  作用是将原来实例访问方式a.data()变成a.data，类方法的访问方式变成类似变量名的访问方式\n",
    "class Property:\n",
    "    def __init__(self, fget, fset=None):\n",
    "        self.fset = fset\n",
    "        self.fget = fget\n",
    "    \n",
    "    def __get__(self, instance, owner):\n",
    "        if instance is not None:\n",
    "            return self.fget(instance) # 因为是实例定义的方法，所以不会自动绑定self，需要手动传入参数\n",
    "        return self\n",
    "    \n",
    "    def __set__(self, instance, value):\n",
    "        if instance is not None:\n",
    "            self.fset(instance, value)\n",
    "    \n",
    "    def setter(self, fset):\n",
    "        self.fset = fset\n",
    "        return self\n",
    "        \n",
    "class A:\n",
    "    def __init__(self, x):\n",
    "        self._x = x\n",
    "    \n",
    "    @Property # data = Property(data)\n",
    "    def data(self):\n",
    "        return self._x\n",
    "    \n",
    "    @data.setter # 首先@data就会调用Property类（描述器），然后.setter去调用Property类的setter方法，返回本实例。\n",
    "                #然后再调用Property类的set方法，由set方法再去调用A类的data方法进行赋值\n",
    "    def data(self, value):\n",
    "        print('===========')\n",
    "        self._x = value\n",
    "    \n",
    "a = A(10)\n",
    "print(a.data)\n",
    "a.data = 100\n",
    "print(a.data)"
   ]
  },
  {
   "cell_type": "markdown",
   "metadata": {},
   "source": [
    "A.show = lambda self:pass\n",
    "a.show() #上面定义的类属性，用实例调用时，是有绑定效果，会自动传参self\n",
    "a.show = lambda self:pass\n",
    "a.show(self) #上面用实例定义的属性，self参数需要手动传入，不会绑定效果"
   ]
  },
  {
   "cell_type": "code",
   "execution_count": null,
   "metadata": {},
   "outputs": [],
   "source": []
  }
 ],
 "metadata": {
  "kernelspec": {
   "display_name": "Python 3",
   "language": "python",
   "name": "python3"
  },
  "language_info": {
   "codemirror_mode": {
    "name": "ipython",
    "version": 3
   },
   "file_extension": ".py",
   "mimetype": "text/x-python",
   "name": "python",
   "nbconvert_exporter": "python",
   "pygments_lexer": "ipython3",
   "version": "3.6.6"
  }
 },
 "nbformat": 4,
 "nbformat_minor": 2
}
