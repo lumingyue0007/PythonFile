{
 "cells": [
  {
   "cell_type": "markdown",
   "metadata": {},
   "source": [
    "# __slots__"
   ]
  },
  {
   "cell_type": "code",
   "execution_count": 11,
   "metadata": {},
   "outputs": [
    {
     "name": "stdout",
     "output_type": "stream",
     "text": [
      "1 3 5\n",
      "100\n"
     ]
    }
   ],
   "source": [
    "class A:\n",
    "    x = 1\n",
    "    __slots__ = ('z', 'y')\n",
    "    def __init__(self):\n",
    "        self.y = 3\n",
    "        self.z = 5\n",
    "\n",
    "a = A()\n",
    "print(a.x, a.y, a.z)\n",
    "a.y = 100\n",
    "print(a.y)"
   ]
  },
  {
   "cell_type": "markdown",
   "metadata": {},
   "source": [
    "作用：由于字典会占有一定的空间的，用slot会解决字典占用空间问题，最好用元组\n",
    "当类中定义了__slots__，则实例的__dict__不存在了\n",
    "slots只影响当前类，且只作用于类的实例，对继承类没有影响\n",
    "而且不能动态的通过实例增加实例属性，实例所拥有的属性，必须在__slots__中预先定义\n",
    "应用场景：\n",
    "    需要构建百万级以上的对象，并且内存容量紧张，实例的属性简单、固定，并且不会动态增加的场景"
   ]
  },
  {
   "cell_type": "markdown",
   "metadata": {},
   "source": [
    "# __radd__ 运算符重载"
   ]
  },
  {
   "cell_type": "code",
   "execution_count": 29,
   "metadata": {},
   "outputs": [],
   "source": [
    "class A:\n",
    "    def __init__(self, x):\n",
    "        self.x = x\n",
    "    \n",
    "    def __add__(self, other):\n",
    "        print('A1 add --------------')\n",
    "        return self.x + other.x\n",
    "    \n",
    "    def __iadd__(self, other):\n",
    "        print('A2 iadd --------------')\n",
    "        return type(self)(self + other)\n",
    "\n",
    "    def __radd__(self, other):\n",
    "        print('A3 radd --------------')\n",
    "        return self + other # 等价 a + b 调用 add方法  代码复用\n",
    "\n",
    "class B:\n",
    "    def __init__(self, x):\n",
    "        self.x = x\n",
    "\n",
    "a = A(3)\n",
    "b = B(6)"
   ]
  },
  {
   "cell_type": "code",
   "execution_count": 37,
   "metadata": {},
   "outputs": [
    {
     "name": "stdout",
     "output_type": "stream",
     "text": [
      "A1 add --------------\n",
      "21\n",
      "########################################\n",
      "A3 radd --------------\n",
      "A1 add --------------\n",
      "21\n",
      "########################################\n",
      "A2 iadd --------------\n",
      "A1 add --------------\n",
      "21\n"
     ]
    }
   ],
   "source": [
    "print(a + b) # 等价 a.__add__(b)\n",
    "print('#'*40)\n",
    "print(b + a) # 等价 b.__add__(a) 如果b实例实现了add方法，则优先调用本实例方法，\n",
    "            # 如果b实例没有实现add方法，则尝试调用a的radd方法，如果a没有radd方法，则返回异常\n",
    "print('#'*40)\n",
    "a += b\n",
    "print(a.x)"
   ]
  },
  {
   "cell_type": "markdown",
   "metadata": {},
   "source": [
    "# 生成器交互"
   ]
  },
  {
   "cell_type": "code",
   "execution_count": 62,
   "metadata": {},
   "outputs": [],
   "source": [
    "def count():\n",
    "    start = 0\n",
    "    base = None\n",
    "    \n",
    "    while True:\n",
    "        if base is None:\n",
    "            start += 1\n",
    "        else:\n",
    "            start = base\n",
    "        base = yield start # 每次yield后，程序暂停，等待下一次next"
   ]
  },
  {
   "cell_type": "code",
   "execution_count": 63,
   "metadata": {},
   "outputs": [
    {
     "name": "stdout",
     "output_type": "stream",
     "text": [
      "1\n",
      "2\n",
      "3\n",
      "4\n",
      "5\n",
      "101\n",
      "102\n",
      "103\n",
      "104\n",
      "105\n"
     ]
    }
   ],
   "source": [
    "c = count()\n",
    "for _ in range(5):\n",
    "    print(next(c))\n",
    "c.send(100) # 交互的同时，生成器也会被驱动一次\n",
    "for _ in range(5):\n",
    "    print(next(c))"
   ]
  },
  {
   "cell_type": "code",
   "execution_count": null,
   "metadata": {},
   "outputs": [],
   "source": []
  },
  {
   "cell_type": "code",
   "execution_count": null,
   "metadata": {},
   "outputs": [],
   "source": []
  }
 ],
 "metadata": {
  "kernelspec": {
   "display_name": "Python 3",
   "language": "python",
   "name": "python3"
  },
  "language_info": {
   "codemirror_mode": {
    "name": "ipython",
    "version": 3
   },
   "file_extension": ".py",
   "mimetype": "text/x-python",
   "name": "python",
   "nbconvert_exporter": "python",
   "pygments_lexer": "ipython3",
   "version": "3.6.6"
  }
 },
 "nbformat": 4,
 "nbformat_minor": 2
}
