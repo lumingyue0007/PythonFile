{
 "cells": [
  {
   "cell_type": "code",
   "execution_count": 6,
   "metadata": {},
   "outputs": [],
   "source": [
    "class A:\n",
    "    pass"
   ]
  },
  {
   "cell_type": "code",
   "execution_count": 10,
   "metadata": {},
   "outputs": [
    {
     "name": "stdout",
     "output_type": "stream",
     "text": [
      "A\n",
      "__main__\n",
      "<class 'type'>\n"
     ]
    }
   ],
   "source": [
    "print(A.__name__)# 类，函数，方法的名字\n",
    "print(A.__module__)# 当前运行模块名\n",
    "print(A.__class__)# 对象或类所属的类"
   ]
  },
  {
   "cell_type": "code",
   "execution_count": 12,
   "metadata": {},
   "outputs": [],
   "source": [
    "class A:pass\n",
    "class B(A):pass\n",
    "class C(B):pass"
   ]
  },
  {
   "cell_type": "code",
   "execution_count": 14,
   "metadata": {},
   "outputs": [
    {
     "name": "stdout",
     "output_type": "stream",
     "text": [
      "(<class '__main__.B'>,)\n",
      "(<class '__main__.C'>, <class '__main__.B'>, <class '__main__.A'>, <class 'object'>)\n"
     ]
    }
   ],
   "source": [
    "print(C.__bases__)# 类的基类的元组，直接父类\n",
    "print(C.__mro__)# 类的继承解析顺序"
   ]
  },
  {
   "cell_type": "code",
   "execution_count": 15,
   "metadata": {},
   "outputs": [
    {
     "name": "stdout",
     "output_type": "stream",
     "text": [
      "{'__module__': '__main__', '__dict__': <attribute '__dict__' of 'D' objects>, '__weakref__': <attribute '__weakref__' of 'D' objects>, '__doc__': None}\n"
     ]
    }
   ],
   "source": [
    "class D:pass\n",
    "print(D.__dict__)"
   ]
  },
  {
   "cell_type": "code",
   "execution_count": 16,
   "metadata": {},
   "outputs": [
    {
     "name": "stdout",
     "output_type": "stream",
     "text": [
      "['__class__', '__delattr__', '__dict__', '__dir__', '__doc__', '__eq__', '__format__', '__ge__', '__getattribute__', '__gt__', '__hash__', '__init__', '__init_subclass__', '__le__', '__lt__', '__module__', '__ne__', '__new__', '__reduce__', '__reduce_ex__', '__repr__', '__setattr__', '__sizeof__', '__str__', '__subclasshook__', '__weakref__']\n"
     ]
    }
   ],
   "source": [
    "print(dir(D))"
   ]
  },
  {
   "cell_type": "code",
   "execution_count": null,
   "metadata": {},
   "outputs": [],
   "source": [
    "魔术方法"
   ]
  },
  {
   "cell_type": "markdown",
   "metadata": {},
   "source": [
    "hash方法"
   ]
  },
  {
   "cell_type": "code",
   "execution_count": null,
   "metadata": {},
   "outputs": [],
   "source": [
    "# 创建初始化和销毁\n",
    "# 创建 __new__ 创建实例化\n",
    "# 初始化 __init__\n",
    "# 销毁 __del__"
   ]
  },
  {
   "cell_type": "code",
   "execution_count": 19,
   "metadata": {},
   "outputs": [
    {
     "name": "stdout",
     "output_type": "stream",
     "text": [
      "<class '__main__.AA'>\n",
      "('tom',)\n",
      "{}\n",
      "---------------\n"
     ]
    }
   ],
   "source": [
    "class AA:\n",
    "    def __new__(cls,*args, **kwargs):\n",
    "        print(cls)\n",
    "        print(args)\n",
    "        print(kwargs)\n",
    "        return super().__new__(cls)\n",
    "    \n",
    "    def __init__(self, name):\n",
    "        self.name = name\n",
    "        print('---------------')\n",
    "    \n",
    "a = AA('tom')"
   ]
  },
  {
   "cell_type": "code",
   "execution_count": null,
   "metadata": {},
   "outputs": [],
   "source": [
    "实例化过程中，如果定义了__new__方法，则首先条用__new__方法进行创建实例，并返回本类型实例，然后再调用__init__初始化方法\n",
    "new方法一定要返回一个cls的实例，否则不会调用init方法，该方法永远都是静态方法\n",
    "如果没有定义，则调用object方法"
   ]
  },
  {
   "cell_type": "code",
   "execution_count": 42,
   "metadata": {},
   "outputs": [],
   "source": [
    "class Person:\n",
    "    def __hash__(self):\n",
    "        return 1\n",
    "#         return hash(self.name)\n",
    "    \n",
    "    def __eq__(self, other):\n",
    "        return True\n",
    "    \n",
    "    def __init__(self, name):\n",
    "        self.name = name\n",
    "    \n",
    "    def __repr__(self):\n",
    "        return self.name\n",
    "tom = Person('tom')\n",
    "jerry = Person('jerry')"
   ]
  },
  {
   "cell_type": "code",
   "execution_count": 44,
   "metadata": {},
   "outputs": [
    {
     "name": "stdout",
     "output_type": "stream",
     "text": [
      "[tom, jerry]\n",
      "{tom}\n",
      "{tom: 2}\n"
     ]
    }
   ],
   "source": [
    "print([tom, jerry])\n",
    "print({tom, jerry}) # 去重，因为类hash值返回相同，并且eq返回true，则表示重复（去重）\n",
    "print({tom:1, jerry:2}) # key有去重效果，hash相同，eq相同，则去重（判定后加入的与原有，如果相同，则后加入的去除）。2：赋值效应"
   ]
  },
  {
   "cell_type": "code",
   "execution_count": null,
   "metadata": {},
   "outputs": [],
   "source": [
    "去重：首先比较is是否相同，然后比较eq\n",
    "hash值相同，不一定去重。还要判断是否相等eq。如果hash值相同，eq内容相等，则会去重"
   ]
  },
  {
   "cell_type": "code",
   "execution_count": null,
   "metadata": {},
   "outputs": [],
   "source": [
    "如果要一个类不可hash，则定义__hash__ = None\n",
    "如果单独定义了一个eq方法，则类自动定义一个__hash__=None"
   ]
  },
  {
   "cell_type": "code",
   "execution_count": 54,
   "metadata": {},
   "outputs": [],
   "source": [
    "# 练习：设计二维坐标类Point，使其可hash，并比较两个坐标的实例是否相等\n",
    "class Point:\n",
    "    def __init__(self, x, y):\n",
    "        self.x = x\n",
    "        self.y = y\n",
    "    \n",
    "    def __hash__(self):\n",
    "#         return hash(self) # 递归调用，错误\n",
    "        return hash((self.x, self.y))\n",
    "    \n",
    "    def __eq__(self, other):\n",
    "        return self.x == other.x and self.y == self.y\n",
    "        # return self == other (错误，递归调用，等价==》self.__eq__(other))\n",
    "        \n",
    "    def __repr__(self):\n",
    "        return '{},{}'.format(self.x, self.y)"
   ]
  },
  {
   "cell_type": "code",
   "execution_count": 55,
   "metadata": {},
   "outputs": [
    {
     "name": "stdout",
     "output_type": "stream",
     "text": [
      "{1,3}\n"
     ]
    }
   ],
   "source": [
    "p1 = Point(1, 3)\n",
    "p2 = Point(1, 3)\n",
    "print({p1, p2})"
   ]
  },
  {
   "cell_type": "markdown",
   "metadata": {},
   "source": [
    "bool方法"
   ]
  },
  {
   "cell_type": "code",
   "execution_count": 58,
   "metadata": {},
   "outputs": [
    {
     "name": "stdout",
     "output_type": "stream",
     "text": [
      "1 True\n",
      "2 True\n"
     ]
    }
   ],
   "source": [
    "class A: pass\n",
    "if A:\n",
    "    print(1, True)\n",
    "\n",
    "if A():\n",
    "    print(2, True)"
   ]
  },
  {
   "cell_type": "code",
   "execution_count": null,
   "metadata": {},
   "outputs": [],
   "source": [
    "当类中没有定义__bool__方法时，默认都是true"
   ]
  },
  {
   "cell_type": "code",
   "execution_count": 59,
   "metadata": {},
   "outputs": [
    {
     "name": "stdout",
     "output_type": "stream",
     "text": [
      "1 --------------\n"
     ]
    }
   ],
   "source": [
    "class A:\n",
    "    def __bool__(self):\n",
    "        return False\n",
    "\n",
    "if A:\n",
    "    print(1, '--------------')\n",
    "if A():\n",
    "    print(2, '++++++++++++++')"
   ]
  },
  {
   "cell_type": "code",
   "execution_count": null,
   "metadata": {},
   "outputs": [],
   "source": [
    "当类中定义了__bool__方法时，则调用bool方法，该方法必须返回bool值，该方法为实例方法，对类没有影响"
   ]
  },
  {
   "cell_type": "code",
   "execution_count": 62,
   "metadata": {},
   "outputs": [
    {
     "name": "stdout",
     "output_type": "stream",
     "text": [
      "1 ************\n"
     ]
    }
   ],
   "source": [
    "class A:\n",
    "    def __len__(self):\n",
    "        return 1\n",
    "\n",
    "if A():\n",
    "    print(1, '************')"
   ]
  },
  {
   "cell_type": "code",
   "execution_count": null,
   "metadata": {},
   "outputs": [],
   "source": [
    "len返回容器的长度，如果容器为空，等价为false，否则等价为true"
   ]
  },
  {
   "cell_type": "code",
   "execution_count": 63,
   "metadata": {},
   "outputs": [],
   "source": [
    "class A:\n",
    "    def __bool__(self):\n",
    "        return False\n",
    "    \n",
    "    def __len__(self):\n",
    "        return 1\n",
    "\n",
    "if A():\n",
    "    print(1, '************')"
   ]
  },
  {
   "cell_type": "code",
   "execution_count": null,
   "metadata": {},
   "outputs": [],
   "source": [
    "如果bool和len同时定义了，则优先调用bool，其次len。\n",
    "如果两者都没有定义，则默认为true"
   ]
  },
  {
   "cell_type": "markdown",
   "metadata": {},
   "source": [
    "可视化"
   ]
  },
  {
   "cell_type": "code",
   "execution_count": 72,
   "metadata": {},
   "outputs": [],
   "source": [
    "class A:\n",
    "    def __init__(self, name):\n",
    "        self.name = name\n",
    "    \n",
    "    def __repr__(self):\n",
    "        return 'repr name={}'.format(self.name)\n",
    "    \n",
    "    def __str__(self):\n",
    "        return 'str name={}'.format(self.name)"
   ]
  },
  {
   "cell_type": "code",
   "execution_count": 73,
   "metadata": {},
   "outputs": [
    {
     "name": "stdout",
     "output_type": "stream",
     "text": [
      "<class '__main__.A'>\n",
      "str name=tom\n",
      "str name=tom\n",
      "str name=tom\n"
     ]
    }
   ],
   "source": [
    "print(A)\n",
    "print(A('tom'))\n",
    "print('{}'.format(A('tom')))\n",
    "print(str(A('tom')))"
   ]
  },
  {
   "cell_type": "code",
   "execution_count": 74,
   "metadata": {},
   "outputs": [
    {
     "name": "stdout",
     "output_type": "stream",
     "text": [
      "repr name=tom\n"
     ]
    }
   ],
   "source": [
    "print(repr(A('tom')))"
   ]
  },
  {
   "cell_type": "code",
   "execution_count": null,
   "metadata": {},
   "outputs": [],
   "source": [
    "如果是str，print，format直接调用，则优先调用str方法，如果没有定义str方法，则调用repr方法，如果没有定义repr方法，则返回对象内存地址信息\n",
    "除此之外，则调用repr方法，如果repr方法没有定义，则返回对象内存地址信息\n",
    "一般情况下，直接定义repr方法"
   ]
  },
  {
   "cell_type": "markdown",
   "metadata": {},
   "source": [
    "运算符重载"
   ]
  },
  {
   "cell_type": "code",
   "execution_count": 83,
   "metadata": {},
   "outputs": [],
   "source": [
    "class A:\n",
    "    def __init__(self, name, age):\n",
    "        self.name = name\n",
    "        self.age = age\n",
    "    \n",
    "    def __sub__(self, other):\n",
    "        return self.age - other.age\n",
    "\n",
    "    def __isub__(self, other):\n",
    "#         self.age -= other.age\n",
    "#         return self\n",
    "        return self.__class__(self.name, self - other)"
   ]
  },
  {
   "cell_type": "code",
   "execution_count": 84,
   "metadata": {},
   "outputs": [
    {
     "name": "stdout",
     "output_type": "stream",
     "text": [
      "2\n",
      "2\n"
     ]
    }
   ],
   "source": [
    "tom = A('tom', 20)\n",
    "jerry = A('jerry', 18)\n",
    "print(tom - jerry)\n",
    "tom -= jerry\n",
    "print(tom.age)"
   ]
  },
  {
   "cell_type": "code",
   "execution_count": 110,
   "metadata": {},
   "outputs": [],
   "source": [
    "# 练习：完成point类设计，实现向量的加法\n",
    "class Point:\n",
    "    def __init__(self, x, y):\n",
    "        self.x = x\n",
    "        self.y = y\n",
    "    \n",
    "    def __add__(self, other):\n",
    "        return Point(self.x + other.x, self.y + other.y)# 最好能返回一个同类型\n",
    "    \n",
    "    def __iadd__(self, other):\n",
    "        self.x += other.x\n",
    "        self.y += other.y\n",
    "        return self\n",
    "        \n",
    "    def __repr__(self):\n",
    "        return '{},{}'.format(self.x, self.y)"
   ]
  },
  {
   "cell_type": "code",
   "execution_count": 111,
   "metadata": {},
   "outputs": [
    {
     "name": "stdout",
     "output_type": "stream",
     "text": [
      "3,7\n",
      "<class '__main__.Point'>\n",
      "------------------------------\n",
      "3,7\n"
     ]
    }
   ],
   "source": [
    "p1 = Point(1, 3)\n",
    "p2 = Point(2, 4)\n",
    "p3 = p1 + p2\n",
    "print(p3)\n",
    "print(type(p3))\n",
    "print('-'*30)\n",
    "p1 += p2\n",
    "print(p1)"
   ]
  },
  {
   "cell_type": "code",
   "execution_count": 123,
   "metadata": {},
   "outputs": [],
   "source": [
    "class Person:\n",
    "    def __init__(self, name, age):\n",
    "        self.name = name\n",
    "        self.age = age\n",
    "    \n",
    "    def __eq__(self, other):\n",
    "        return self.age == other.age\n",
    "    \n",
    "    def __gt__(self, other):\n",
    "        return self.age > other.age\n",
    "    \n",
    "    def __ge__(self, other):\n",
    "        return self.age >= other.age"
   ]
  },
  {
   "cell_type": "code",
   "execution_count": 125,
   "metadata": {},
   "outputs": [
    {
     "name": "stdout",
     "output_type": "stream",
     "text": [
      "False\n",
      "True\n",
      "False\n",
      "True\n",
      "False\n",
      "True\n"
     ]
    }
   ],
   "source": [
    "tom = Person('tom', 20)\n",
    "jerry = Person('jerry', 30)\n",
    "print(tom == jerry)\n",
    "print(tom != jerry)\n",
    "print(tom > jerry)\n",
    "print(tom < jerry)\n",
    "print(tom >= jerry)\n",
    "print(tom <= jerry)"
   ]
  },
  {
   "cell_type": "markdown",
   "metadata": {},
   "source": [
    "容器方法"
   ]
  },
  {
   "cell_type": "code",
   "execution_count": null,
   "metadata": {},
   "outputs": [],
   "source": [
    "__len__:\n",
    "    内建函数，返回对象的长度（>=0的整数），bool函数调用的时候，如果没有定义bool方法，则调用len方法\n",
    "__iter__:\n",
    "    迭代容器，返回一个新的迭代对象\n",
    "__contains__:\n",
    "    in成员运算符，调用iter方法遍历\n",
    "__getitem__:\n",
    "    实现self[key]时访问。key不存在时引发keyerror异常\n",
    "__setitem__:\n",
    "    和getitem类似，设置值得方法\n",
    "__missint__:\n",
    "    字典或子类使用getitem时，key不存在时执行该方法"
   ]
  },
  {
   "cell_type": "code",
   "execution_count": 148,
   "metadata": {},
   "outputs": [],
   "source": [
    "# 练习：将购物车改造成容器类\n",
    "class Cart:\n",
    "    def __init__(self):\n",
    "        self.item = []\n",
    "    \n",
    "    def additem(self, item):\n",
    "        self.item.append(item)\n",
    "    \n",
    "    def __len__(self):\n",
    "        return len(self.item)\n",
    "    \n",
    "    def __iter__(self):\n",
    "#         return iter(self.item)\n",
    "        yield from self.item\n",
    "    \n",
    "    def __getitem__(self, index):\n",
    "        return self.item[index]\n",
    "    \n",
    "    def __setitem__(self, index, value):\n",
    "        self.item[index] = value\n",
    "        \n",
    "    def __add__(self, other):\n",
    "        self.item.append(other)\n",
    "        return self"
   ]
  },
  {
   "cell_type": "code",
   "execution_count": 152,
   "metadata": {},
   "outputs": [
    {
     "name": "stdout",
     "output_type": "stream",
     "text": [
      "3\n",
      "True\n",
      "False\n",
      "[1, 2, 'abc', 5, 77, 100]\n",
      "abc\n"
     ]
    }
   ],
   "source": [
    "car = Cart()\n",
    "car.additem(1)\n",
    "car.additem(2)\n",
    "car.additem(3)\n",
    "car[2] = 'abc'\n",
    "print(len(car))\n",
    "print(2 in car)\n",
    "print(12 in car)\n",
    "car + 5 + 77 + 100\n",
    "print(list(car))\n",
    "print(car[2])"
   ]
  },
  {
   "cell_type": "markdown",
   "metadata": {},
   "source": [
    "可调用对象"
   ]
  },
  {
   "cell_type": "code",
   "execution_count": 153,
   "metadata": {},
   "outputs": [
    {
     "data": {
      "text/plain": [
       "True"
      ]
     },
     "execution_count": 153,
     "metadata": {},
     "output_type": "execute_result"
    }
   ],
   "source": [
    "def fn(): pass\n",
    "callable(fn)"
   ]
  },
  {
   "cell_type": "code",
   "execution_count": 154,
   "metadata": {},
   "outputs": [],
   "source": [
    "class A:\n",
    "    def __call__(self, *args, **kwargs):\n",
    "        print('call')"
   ]
  },
  {
   "cell_type": "code",
   "execution_count": 157,
   "metadata": {},
   "outputs": [
    {
     "name": "stdout",
     "output_type": "stream",
     "text": [
      "call\n"
     ]
    }
   ],
   "source": [
    "a = A()\n",
    "a()"
   ]
  },
  {
   "cell_type": "code",
   "execution_count": null,
   "metadata": {},
   "outputs": [],
   "source": [
    "在类中定义个call方法，实例就可以像函数一样调用"
   ]
  },
  {
   "cell_type": "code",
   "execution_count": 205,
   "metadata": {},
   "outputs": [],
   "source": [
    "#练习：定义一个斐波那契数列的类，方便调用，计算第n项\n",
    "class Fib:\n",
    "    def __init__(self):\n",
    "        self.item = [0, 1, 1]\n",
    "        \n",
    "    def __call__(self, n):\n",
    "        if n >= len(self.item):\n",
    "            for i in range(len(self.item), n+1):\n",
    "                self.item.append(self.item[i-1] + self.item[i-2])\n",
    "        return self.item[n]\n",
    "    \n",
    "    def __getitem__(self, index):\n",
    "        return self(index)\n",
    "    \n",
    "    def __len__(self):\n",
    "        return len(self.item)\n",
    "    \n",
    "    def __iter__(self):\n",
    "        yield from self.item"
   ]
  },
  {
   "cell_type": "code",
   "execution_count": 206,
   "metadata": {},
   "outputs": [
    {
     "name": "stdout",
     "output_type": "stream",
     "text": [
      "55\n",
      "610\n",
      "[0, 1, 1, 2, 3, 5, 8, 13, 21, 34, 55, 89, 144, 233, 377, 610]\n",
      "16\n",
      "0 1 1 2 3 5 8 13 21 34 55 89 144 233 377 610 "
     ]
    }
   ],
   "source": [
    "f = Fib()\n",
    "print(f(10))\n",
    "print(f[15])\n",
    "print(f.item)\n",
    "print(len(f))\n",
    "for x in f:\n",
    "    print(x, end=' ')"
   ]
  },
  {
   "cell_type": "code",
   "execution_count": null,
   "metadata": {},
   "outputs": [],
   "source": []
  },
  {
   "cell_type": "code",
   "execution_count": null,
   "metadata": {},
   "outputs": [],
   "source": []
  },
  {
   "cell_type": "code",
   "execution_count": null,
   "metadata": {},
   "outputs": [],
   "source": []
  }
 ],
 "metadata": {
  "kernelspec": {
   "display_name": "Python 3",
   "language": "python",
   "name": "python3"
  },
  "language_info": {
   "codemirror_mode": {
    "name": "ipython",
    "version": 3
   },
   "file_extension": ".py",
   "mimetype": "text/x-python",
   "name": "python",
   "nbconvert_exporter": "python",
   "pygments_lexer": "ipython3",
   "version": "3.6.6"
  }
 },
 "nbformat": 4,
 "nbformat_minor": 2
}
